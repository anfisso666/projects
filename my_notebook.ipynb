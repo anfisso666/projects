{
 "cells": [
  {
   "cell_type": "code",
   "execution_count": 11,
   "id": "9db5cdb0",
   "metadata": {},
   "outputs": [
    {
     "data": {
      "text/html": [
       "<style>.input, .jp-InputArea {display: none !important}</style>"
      ],
      "text/plain": [
       "<IPython.core.display.HTML object>"
      ]
     },
     "execution_count": 11,
     "metadata": {},
     "output_type": "execute_result"
    }
   ],
   "source": [
    "from IPython.core.display import HTML\n",
    "HTML('<style>.input, .jp-InputArea {display: none !important}</style>')\n"
   ]
  },
  {
   "cell_type": "code",
   "execution_count": 3,
   "id": "4846ae4f",
   "metadata": {},
   "outputs": [
    {
     "name": "stdout",
     "output_type": "stream",
     "text": [
      "88\n"
     ]
    }
   ],
   "source": [
    "print(88)"
   ]
  },
  {
   "cell_type": "code",
   "execution_count": 10,
   "id": "2ec14941",
   "metadata": {},
   "outputs": [
    {
     "name": "stdout",
     "output_type": "stream",
     "text": [
      "[NbConvertApp] Converting notebook my_notebook.ipynb to latex\n",
      "[NbConvertApp] Writing 22911 bytes to my_notebook.tex\n"
     ]
    }
   ],
   "source": [
    "!jupyter nbconvert --to latex --no-input my_notebook.ipynb \n"
   ]
  }
 ],
 "metadata": {
  "kernelspec": {
   "display_name": "Python 3 (ipykernel)",
   "language": "python",
   "name": "python3"
  },
  "language_info": {
   "codemirror_mode": {
    "name": "ipython",
    "version": 3
   },
   "file_extension": ".py",
   "mimetype": "text/x-python",
   "name": "python",
   "nbconvert_exporter": "python",
   "pygments_lexer": "ipython3",
   "version": "3.10.5"
  }
 },
 "nbformat": 4,
 "nbformat_minor": 5
}
