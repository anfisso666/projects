{
 "cells": [
  {
   "cell_type": "code",
   "execution_count": 1,
   "id": "361768ae",
   "metadata": {},
   "outputs": [
    {
     "data": {
      "text/html": [
       "<style>.input, .jp-InputArea {display: none !important}</style>"
      ],
      "text/plain": [
       "<IPython.core.display.HTML object>"
      ]
     },
     "execution_count": 1,
     "metadata": {},
     "output_type": "execute_result"
    }
   ],
   "source": [
    "# убираем предупреждения\n",
    "import warnings\n",
    "warnings.filterwarnings('ignore')\n",
    "\n",
    "# скрыть код со всех ячеек \n",
    "from IPython.core.display import HTML\n",
    "HTML('<style>.input, .jp-InputArea {display: none !important}</style>')"
   ]
  },
  {
   "cell_type": "code",
   "execution_count": 2,
   "id": "49cd53b7",
   "metadata": {},
   "outputs": [],
   "source": [
    "import pandas as pd\n",
    "import numpy as np\n",
    "import seaborn as sns \n",
    "import matplotlib.pyplot as plt"
   ]
  },
  {
   "cell_type": "markdown",
   "id": "44cfc72c",
   "metadata": {},
   "source": [
    "## имеем данные по каждому АЗС\n",
    "\n",
    "### импортируем - АЗС 1"
   ]
  },
  {
   "cell_type": "code",
   "execution_count": 3,
   "id": "3b8c7d8f",
   "metadata": {},
   "outputs": [],
   "source": [
    "df1 = pd.read_excel(\"ass/Crimea_ass1.xlsx\")"
   ]
  },
  {
   "cell_type": "code",
   "execution_count": 4,
   "id": "fe7f20ee",
   "metadata": {},
   "outputs": [
    {
     "data": {
      "text/html": [
       "<div>\n",
       "<style scoped>\n",
       "    .dataframe tbody tr th:only-of-type {\n",
       "        vertical-align: middle;\n",
       "    }\n",
       "\n",
       "    .dataframe tbody tr th {\n",
       "        vertical-align: top;\n",
       "    }\n",
       "\n",
       "    .dataframe thead th {\n",
       "        text-align: right;\n",
       "    }\n",
       "</style>\n",
       "<table border=\"1\" class=\"dataframe\">\n",
       "  <thead>\n",
       "    <tr style=\"text-align: right;\">\n",
       "      <th></th>\n",
       "      <th>Unnamed: 0.1</th>\n",
       "      <th>Unnamed: 0</th>\n",
       "      <th>date</th>\n",
       "      <th>receipt</th>\n",
       "      <th>product</th>\n",
       "      <th>group_of_products</th>\n",
       "      <th>store</th>\n",
       "      <th>city</th>\n",
       "      <th>sold_quantity</th>\n",
       "      <th>tunover_no_VAT</th>\n",
       "      <th>tunover_VAT</th>\n",
       "      <th>purchase_price_VAT</th>\n",
       "      <th>purchase_cost_VAT</th>\n",
       "      <th>margin_VAT</th>\n",
       "      <th>profit</th>\n",
       "      <th>temperature</th>\n",
       "    </tr>\n",
       "  </thead>\n",
       "  <tbody>\n",
       "    <tr>\n",
       "      <th>0</th>\n",
       "      <td>0</td>\n",
       "      <td>1</td>\n",
       "      <td>2017-09-21</td>\n",
       "      <td>5</td>\n",
       "      <td>ИВ Лимонад Лаймони 0,6 л стекло</td>\n",
       "      <td>ВКУСОВАЯ, СЛАДКАЯ ВОДА, НАПИТКИ</td>\n",
       "      <td>АЗС № 1</td>\n",
       "      <td>Симферополь г</td>\n",
       "      <td>1</td>\n",
       "      <td>NaN</td>\n",
       "      <td>70.0</td>\n",
       "      <td>48.30</td>\n",
       "      <td>48.30</td>\n",
       "      <td>21.70</td>\n",
       "      <td>21.70</td>\n",
       "      <td>NaN</td>\n",
       "    </tr>\n",
       "    <tr>\n",
       "      <th>1</th>\n",
       "      <td>1</td>\n",
       "      <td>3</td>\n",
       "      <td>2017-09-21</td>\n",
       "      <td>6</td>\n",
       "      <td>Вода Волна Байкала 0,5 л негаз</td>\n",
       "      <td>БЕЛАЯ ВОДА</td>\n",
       "      <td>АЗС № 1</td>\n",
       "      <td>Симферополь г</td>\n",
       "      <td>1</td>\n",
       "      <td>NaN</td>\n",
       "      <td>40.0</td>\n",
       "      <td>26.57</td>\n",
       "      <td>26.57</td>\n",
       "      <td>13.43</td>\n",
       "      <td>13.43</td>\n",
       "      <td>NaN</td>\n",
       "    </tr>\n",
       "    <tr>\n",
       "      <th>2</th>\n",
       "      <td>2</td>\n",
       "      <td>5</td>\n",
       "      <td>2017-09-21</td>\n",
       "      <td>7</td>\n",
       "      <td>Вода Волна Байкала 0,5 л негаз</td>\n",
       "      <td>БЕЛАЯ ВОДА</td>\n",
       "      <td>АЗС № 1</td>\n",
       "      <td>Симферополь г</td>\n",
       "      <td>3</td>\n",
       "      <td>NaN</td>\n",
       "      <td>120.0</td>\n",
       "      <td>26.57</td>\n",
       "      <td>79.71</td>\n",
       "      <td>40.29</td>\n",
       "      <td>13.43</td>\n",
       "      <td>NaN</td>\n",
       "    </tr>\n",
       "  </tbody>\n",
       "</table>\n",
       "</div>"
      ],
      "text/plain": [
       "   Unnamed: 0.1  Unnamed: 0       date  receipt  \\\n",
       "0             0           1 2017-09-21        5   \n",
       "1             1           3 2017-09-21        6   \n",
       "2             2           5 2017-09-21        7   \n",
       "\n",
       "                           product                group_of_products    store  \\\n",
       "0  ИВ Лимонад Лаймони 0,6 л стекло  ВКУСОВАЯ, СЛАДКАЯ ВОДА, НАПИТКИ  АЗС № 1   \n",
       "1   Вода Волна Байкала 0,5 л негаз                       БЕЛАЯ ВОДА  АЗС № 1   \n",
       "2   Вода Волна Байкала 0,5 л негаз                       БЕЛАЯ ВОДА  АЗС № 1   \n",
       "\n",
       "            city  sold_quantity  tunover_no_VAT  tunover_VAT  \\\n",
       "0  Симферополь г              1             NaN         70.0   \n",
       "1  Симферополь г              1             NaN         40.0   \n",
       "2  Симферополь г              3             NaN        120.0   \n",
       "\n",
       "   purchase_price_VAT  purchase_cost_VAT  margin_VAT  profit  temperature  \n",
       "0               48.30              48.30       21.70   21.70          NaN  \n",
       "1               26.57              26.57       13.43   13.43          NaN  \n",
       "2               26.57              79.71       40.29   13.43          NaN  "
      ]
     },
     "execution_count": 4,
     "metadata": {},
     "output_type": "execute_result"
    }
   ],
   "source": [
    "df1[:3]"
   ]
  },
  {
   "cell_type": "markdown",
   "id": "738c130f",
   "metadata": {},
   "source": [
    "### группируем по дате и товару, \n",
    "#### считаем сумму выручки по товару\n",
    "#### создаем столбец с месяцем "
   ]
  },
  {
   "cell_type": "code",
   "execution_count": 5,
   "id": "dd5480f3",
   "metadata": {},
   "outputs": [],
   "source": [
    "data1 = df1.groupby([\"date\", \"product\"], as_index=True).agg(\n",
    "   count = (\"product\",\"count\"), profit = (\"margin_VAT\",\"sum\")\n",
    ").reset_index()"
   ]
  },
  {
   "cell_type": "code",
   "execution_count": 6,
   "id": "eed2c04b",
   "metadata": {
    "scrolled": false
   },
   "outputs": [
    {
     "data": {
      "text/html": [
       "<div>\n",
       "<style scoped>\n",
       "    .dataframe tbody tr th:only-of-type {\n",
       "        vertical-align: middle;\n",
       "    }\n",
       "\n",
       "    .dataframe tbody tr th {\n",
       "        vertical-align: top;\n",
       "    }\n",
       "\n",
       "    .dataframe thead th {\n",
       "        text-align: right;\n",
       "    }\n",
       "</style>\n",
       "<table border=\"1\" class=\"dataframe\">\n",
       "  <thead>\n",
       "    <tr style=\"text-align: right;\">\n",
       "      <th></th>\n",
       "      <th>date</th>\n",
       "      <th>product</th>\n",
       "      <th>count</th>\n",
       "      <th>profit</th>\n",
       "      <th>month</th>\n",
       "    </tr>\n",
       "  </thead>\n",
       "  <tbody>\n",
       "    <tr>\n",
       "      <th>0</th>\n",
       "      <td>2017-09-21</td>\n",
       "      <td>Вода Волна Байкала 0,5 л негаз</td>\n",
       "      <td>8</td>\n",
       "      <td>161.16</td>\n",
       "      <td>9</td>\n",
       "    </tr>\n",
       "    <tr>\n",
       "      <th>1</th>\n",
       "      <td>2017-09-21</td>\n",
       "      <td>Вода Крым Аква 1,5 л газ ПЭТ</td>\n",
       "      <td>2</td>\n",
       "      <td>31.50</td>\n",
       "      <td>9</td>\n",
       "    </tr>\n",
       "  </tbody>\n",
       "</table>\n",
       "</div>"
      ],
      "text/plain": [
       "        date                         product  count  profit  month\n",
       "0 2017-09-21  Вода Волна Байкала 0,5 л негаз      8  161.16      9\n",
       "1 2017-09-21    Вода Крым Аква 1,5 л газ ПЭТ      2   31.50      9"
      ]
     },
     "execution_count": 6,
     "metadata": {},
     "output_type": "execute_result"
    }
   ],
   "source": [
    "data1['month'] = data1['date'].dt.month\n",
    "data1[:2]"
   ]
  },
  {
   "cell_type": "markdown",
   "id": "92eb310c",
   "metadata": {},
   "source": [
    "# A B C\n",
    "#### Группируем каждый товар\n",
    "#### Считаем количество товаров\n",
    "#### Выручка по каждому"
   ]
  },
  {
   "cell_type": "code",
   "execution_count": 7,
   "id": "fed33190",
   "metadata": {},
   "outputs": [
    {
     "data": {
      "text/html": [
       "<div>\n",
       "<style scoped>\n",
       "    .dataframe tbody tr th:only-of-type {\n",
       "        vertical-align: middle;\n",
       "    }\n",
       "\n",
       "    .dataframe tbody tr th {\n",
       "        vertical-align: top;\n",
       "    }\n",
       "\n",
       "    .dataframe thead th {\n",
       "        text-align: right;\n",
       "    }\n",
       "</style>\n",
       "<table border=\"1\" class=\"dataframe\">\n",
       "  <thead>\n",
       "    <tr style=\"text-align: right;\">\n",
       "      <th></th>\n",
       "      <th>product</th>\n",
       "      <th>count</th>\n",
       "      <th>profit</th>\n",
       "    </tr>\n",
       "  </thead>\n",
       "  <tbody>\n",
       "    <tr>\n",
       "      <th>0</th>\n",
       "      <td>AVS Влажные салфетки \"Для Салона\", 25 шт.</td>\n",
       "      <td>3</td>\n",
       "      <td>51.0</td>\n",
       "    </tr>\n",
       "    <tr>\n",
       "      <th>1</th>\n",
       "      <td>AVS Влажные салфетки \"Для салона из кожи\", 25 шт.</td>\n",
       "      <td>6</td>\n",
       "      <td>102.0</td>\n",
       "    </tr>\n",
       "  </tbody>\n",
       "</table>\n",
       "</div>"
      ],
      "text/plain": [
       "                                             product  count  profit\n",
       "0          AVS Влажные салфетки \"Для Салона\", 25 шт.      3    51.0\n",
       "1  AVS Влажные салфетки \"Для салона из кожи\", 25 шт.      6   102.0"
      ]
     },
     "execution_count": 7,
     "metadata": {},
     "output_type": "execute_result"
    }
   ],
   "source": [
    "df_abc1 = data1.groupby([\"product\"], as_index=True).agg(\n",
    "   count = (\"product\",\"count\"), profit = (\"profit\",\"sum\")\n",
    ").reset_index()\n",
    "df_abc1[:2]"
   ]
  },
  {
   "cell_type": "markdown",
   "id": "639aad98",
   "metadata": {},
   "source": []
  },
  {
   "cell_type": "markdown",
   "id": "85590bfb",
   "metadata": {},
   "source": [
    "## пишем функции, где считаем класс (A / B / С)\n",
    "#### Группируем товар, сортируем, подсчитываем ранг, по условию присваиваем класс "
   ]
  },
  {
   "cell_type": "code",
   "execution_count": 8,
   "id": "fdb1e823",
   "metadata": {},
   "outputs": [],
   "source": [
    "def ABC_analysis(df):\n",
    "    grouped_df = (\n",
    "            df.loc[:, ['product','profit']]\n",
    "            .groupby('product')\n",
    "            .sum()         \n",
    "        )\n",
    "\n",
    "    grouped_df = grouped_df.sort_values(by=['profit'], ascending=False)\n",
    "    \n",
    "    ## Ranking by importance\n",
    "    grouped_df[\"Rank\"] = grouped_df['profit'].rank(ascending = False)\n",
    "    grouped_df[\"ABC\"] = ' '\n",
    "    grouped_df = grouped_df.reset_index()\n",
    "\n",
    "    ## Checking the Importance of the Customers and Categorising into class A,B,C and splitting based on 20-30-50\n",
    "    grouped_df['ABC'][0: int(0.2 * grouped_df['Rank'].max())] = 'A'\n",
    "    grouped_df['ABC'][int(0.2 * grouped_df['Rank'].max()) : int(0.5 * grouped_df['Rank'].max())] = 'B'\n",
    "    grouped_df['ABC'][int(0.5 * grouped_df['Rank'].max()): ] = 'C'                  \n",
    "    \n",
    "    return grouped_df\n"
   ]
  },
  {
   "cell_type": "code",
   "execution_count": 9,
   "id": "820a85e8",
   "metadata": {},
   "outputs": [
    {
     "data": {
      "text/html": [
       "<div>\n",
       "<style scoped>\n",
       "    .dataframe tbody tr th:only-of-type {\n",
       "        vertical-align: middle;\n",
       "    }\n",
       "\n",
       "    .dataframe tbody tr th {\n",
       "        vertical-align: top;\n",
       "    }\n",
       "\n",
       "    .dataframe thead th {\n",
       "        text-align: right;\n",
       "    }\n",
       "</style>\n",
       "<table border=\"1\" class=\"dataframe\">\n",
       "  <thead>\n",
       "    <tr style=\"text-align: right;\">\n",
       "      <th></th>\n",
       "      <th>product</th>\n",
       "      <th>profit</th>\n",
       "      <th>Rank</th>\n",
       "      <th>ABC</th>\n",
       "    </tr>\n",
       "  </thead>\n",
       "  <tbody>\n",
       "    <tr>\n",
       "      <th>0</th>\n",
       "      <td>Кофе с молоком 160 мл АЗС № 11</td>\n",
       "      <td>172705.45</td>\n",
       "      <td>1.0</td>\n",
       "      <td>A</td>\n",
       "    </tr>\n",
       "    <tr>\n",
       "      <th>1</th>\n",
       "      <td>Кофе Американо 160 мл АЗС 11</td>\n",
       "      <td>152547.24</td>\n",
       "      <td>2.0</td>\n",
       "      <td>A</td>\n",
       "    </tr>\n",
       "    <tr>\n",
       "      <th>2</th>\n",
       "      <td>Омыватель зимний Мустанг 5 л</td>\n",
       "      <td>125707.82</td>\n",
       "      <td>3.0</td>\n",
       "      <td>A</td>\n",
       "    </tr>\n",
       "  </tbody>\n",
       "</table>\n",
       "</div>"
      ],
      "text/plain": [
       "                          product     profit  Rank ABC\n",
       "0  Кофе с молоком 160 мл АЗС № 11  172705.45   1.0   A\n",
       "1    Кофе Американо 160 мл АЗС 11  152547.24   2.0   A\n",
       "2    Омыватель зимний Мустанг 5 л  125707.82   3.0   A"
      ]
     },
     "execution_count": 9,
     "metadata": {},
     "output_type": "execute_result"
    }
   ],
   "source": [
    "ABC_groups1 = ABC_analysis(df_abc1)\n",
    "ABC_groups1[:3]"
   ]
  },
  {
   "cell_type": "markdown",
   "id": "c2d033a6",
   "metadata": {},
   "source": [
    "### Посмотрим на объем каждой группы "
   ]
  },
  {
   "cell_type": "code",
   "execution_count": 10,
   "id": "9b697c0c",
   "metadata": {
    "scrolled": true
   },
   "outputs": [
    {
     "data": {
      "text/plain": [
       "C    511\n",
       "B    306\n",
       "A    204\n",
       "Name: ABC, dtype: int64"
      ]
     },
     "execution_count": 10,
     "metadata": {},
     "output_type": "execute_result"
    },
    {
     "data": {
      "image/png": "[encoded data removed]",
      "text/plain": [
       "<Figure size 640x480 with 1 Axes>"
      ]
     },
     "metadata": {},
     "output_type": "display_data"
    }
   ],
   "source": [
    "sns.barplot(x = 'ABC', y = 'profit',data = ABC_groups1)\n",
    "ABC_groups1['ABC'].value_counts()"
   ]
  },
  {
   "cell_type": "markdown",
   "id": "9451a055",
   "metadata": {},
   "source": [
    "### вклад каждой группы – какой доход"
   ]
  },
  {
   "cell_type": "code",
   "execution_count": 11,
   "id": "57ab56d6",
   "metadata": {
    "scrolled": true
   },
   "outputs": [
    {
     "data": {
      "text/plain": [
       "ABC\n",
       "A    85.187226\n",
       "B    12.925894\n",
       "C     1.886880\n",
       "Name: profit, dtype: float64"
      ]
     },
     "execution_count": 11,
     "metadata": {},
     "output_type": "execute_result"
    }
   ],
   "source": [
    "ABC_groups1.groupby('ABC')['profit'].sum() / ABC_groups1['profit'].sum() * 100."
   ]
  },
  {
   "cell_type": "markdown",
   "id": "7e92ee32",
   "metadata": {},
   "source": [
    "# x y z\n",
    "##### убираем ненужные столбцы, группируем табор, считаем количество \n",
    "#####  разбиваем по месяцам, считаем стандартное отклонение спроса, общий спрос, средний месячный спрос\n",
    "##### далее визуализируем и смотрим данные"
   ]
  },
  {
   "cell_type": "code",
   "execution_count": 12,
   "id": "d1e9abf1",
   "metadata": {},
   "outputs": [],
   "source": [
    "df_xyz1 = data1.groupby(['product','month'])['count'].sum().to_frame().reset_index()"
   ]
  },
  {
   "cell_type": "code",
   "execution_count": 13,
   "id": "d5ad7a52",
   "metadata": {},
   "outputs": [],
   "source": [
    "df_xyz1 = df_xyz1.pivot(index='product', columns='month', values='count').add_prefix('m').reset_index().fillna(0)"
   ]
  },
  {
   "cell_type": "code",
   "execution_count": 14,
   "id": "a7b87872",
   "metadata": {},
   "outputs": [
    {
     "ename": "SyntaxError",
     "evalue": "incomplete input (1453129381.py, line 2)",
     "output_type": "error",
     "traceback": [
      "\u001b[0;36m  Input \u001b[0;32mIn [14]\u001b[0;36m\u001b[0m\n\u001b[0;31m    \u001b[0m\n\u001b[0m    ^\u001b[0m\n\u001b[0;31mSyntaxError\u001b[0m\u001b[0;31m:\u001b[0m incomplete input\n"
     ]
    }
   ],
   "source": [
    "df_xyz1['Стандартное отклонение спроса'] = df_xyz1[['m1','m2','m3','m4','m5','m6',\n",
    "            "
   ]
  },
  {
   "cell_type": "code",
   "execution_count": null,
   "id": "64ffb3db",
   "metadata": {},
   "outputs": [],
   "source": [
    "df_xyz1 = df_xyz1.assign(Общий_спрос = df_xyz1['m1'] + df_xyz1['m2'] + \\\n",
    "                                                 df_xyz1['m3'] + df_xyz1['m4'] + \\\n",
    "                                                 df_xyz1['m5'] + df_xyz1['m6'] + \\\n",
    "                                                 df_xyz1['m7'] + df_xyz1['m8'] + \\\n",
    "                                                 df_xyz1['m9'] + df_xyz1['m10'] + \\\n",
    "                                                 df_xyz1['m11'] + df_xyz1['m12']\n",
    "                                  )\n",
    "df_xyz1[:4]"
   ]
  },
  {
   "cell_type": "code",
   "execution_count": null,
   "id": "e80e6313",
   "metadata": {},
   "outputs": [],
   "source": [
    "df_xyz1 = df_xyz1.assign(Среднемесячный_спрос = df_xyz1['Общий_спрос'] / 12 )\n",
    "df_xyz1['Коэффициент'] = df_xyz1['Стандартное отклонение спроса'] / df_xyz1['Среднемесячный_спрос']\n",
    "f, ax = plt.subplots(figsize=(15, 6))\n",
    "ax = sns.distplot(df_xyz1['Коэффициент']).set_title(\"Коэффициент\",fontsize=15)"
   ]
  },
  {
   "cell_type": "markdown",
   "id": "41a7c65b",
   "metadata": {},
   "source": [
    "#### По коэффициенту вариации спроса присваиваем класс. \n",
    "В случае данной АЗС, товары с коэффициентом 0,3 или ниже очень предсказуемы и имеют стабильные продажи в течение всего года, поэтому они относятся к классу X. Товары с коэффициентом от 0,3 до 0,6 менее предсказуемы и ими сложнее управлять, поэтому они относятся к классу Y. Наконец , все коэффициенты больше 0,6 относится к классу Z, так как его намного сложнее прогнозировать, и он подвержен колебаниям в течение года, он продается в случайном порядке."
   ]
  },
  {
   "cell_type": "code",
   "execution_count": null,
   "id": "49c6f377",
   "metadata": {},
   "outputs": [],
   "source": [
    "def xyz_classify_product1(cov):\n",
    "    if cov <= 0.3:\n",
    "        return 'X'\n",
    "    elif cov > 0.3 and cov <= 0.6:\n",
    "        return 'Y'\n",
    "    else:\n",
    "        return 'Z'\n",
    "df_xyz1['xyz'] = df_xyz1['Коэффициент'].apply(xyz_classify_product1)\n",
    "df_xyz1.xyz.value_counts()"
   ]
  },
  {
   "cell_type": "markdown",
   "id": "f761f216",
   "metadata": {},
   "source": [
    "### Объединяем две таблицы (ABC-XYZ), убираем ненужные столбцы. Экспортируем файл в формате Excel "
   ]
  },
  {
   "cell_type": "code",
   "execution_count": null,
   "id": "e6be2758",
   "metadata": {},
   "outputs": [],
   "source": [
    "merge1 = pd.merge(ABC_groups1, df_xyz1,\n",
    "                       how='inner', on='product')\n",
    "merge1 = merge1.drop(['Rank',  'm1', 'm2', 'm3', 'm4', 'm5', 'm6',\n",
    "       'm7', 'm8', 'm9', 'm10', 'm11', 'm12', 'Стандартное отклонение спроса',\n",
    "       'Общий_спрос', 'Среднемесячный_спрос', 'Коэффициент'], axis=1)\n",
    "merge1 = merge1.rename(columns={ 'product':'Товар', 'profit': 'Доход', 'xyz': 'Класс_XYZ', 'ABC': 'Класс_ABC'})\n",
    "merge1['Магазин'] = 'АЗС 1'\n",
    "\n",
    "merge1.to_excel('fin/abc&xyz_Crimea_ass1.xlsx')"
   ]
  },
  {
   "cell_type": "code",
   "execution_count": null,
   "id": "c4a7bc7e",
   "metadata": {},
   "outputs": [],
   "source": [
    "merge1[:2]"
   ]
  },
  {
   "cell_type": "code",
   "execution_count": null,
   "id": "8d9e0da4",
   "metadata": {},
   "outputs": [],
   "source": []
  },
  {
   "cell_type": "markdown",
   "id": "abc936ef",
   "metadata": {},
   "source": [
    "Товары A - 20% товаров, приносят 70% дохода\n",
    "\n",
    "Товары B - 30% товаров, приносят 25% выручки\n",
    "\n",
    "Товары C - 50% товаров, приносят 5% дохода"
   ]
  },
  {
   "cell_type": "markdown",
   "id": "60041d87",
   "metadata": {},
   "source": [
    "\n",
    "Товары X: \n",
    "Товары, отнесенные к классу X, - это те, которые демонстрируют наименьшее изменение спроса. Продажи этих продуктов довольно постоянны, что означает, что менеджерам по закупкам легче прогнозировать их, и следует избегать нехватки запасов.\n",
    "\n",
    "Товары Y: \n",
    "Товары, отнесенные к классу Y, более изменчивы, чем товары класса X. Спрос может меняться со временем из-за таких факторов, как сезонность, поэтому их сложнее точно прогнозировать.\n",
    "\n",
    "Товары Z: \n",
    "Наконец, продукты класса Z сильно варьируются. Спрос растет и падает, и его действительно трудно предсказать, поэтому избежать нехватки запасов может быть действительно сложно, если только вы не сидите на больших запасах, которые не могут быстро оборачиваться.\n"
   ]
  }
 ],
 "metadata": {
  "kernelspec": {
   "display_name": "Python 3 (ipykernel)",
   "language": "python",
   "name": "python3"
  },
  "language_info": {
   "codemirror_mode": {
    "name": "ipython",
    "version": 3
   },
   "file_extension": ".py",
   "mimetype": "text/x-python",
   "name": "python",
   "nbconvert_exporter": "python",
   "pygments_lexer": "ipython3",
   "version": "3.10.5"
  }
 },
 "nbformat": 4,
 "nbformat_minor": 5
}
