{
 "cells": [
  {
   "cell_type": "markdown",
   "id": "a560a491",
   "metadata": {},
   "source": [
    "<div style='background: #FFE7DF; border-radius:10px; taxt-align: center; width: 444px; margin: 55px auto; padding:44px; border: 1px solid #754F4F'>\n",
    "    <h5 style=' text-align:center; margin: auto'>\n",
    "        Проведём анализ опроса\n",
    "    </h5>\n",
    "</div>"
   ]
  },
  {
   "cell_type": "code",
   "execution_count": 1,
   "id": "bc95f09a",
   "metadata": {},
   "outputs": [],
   "source": [
    "import pandas as pd\n",
    "import numpy as np\n",
    "import altair as alt"
   ]
  },
  {
   "cell_type": "code",
   "execution_count": 2,
   "id": "96239990",
   "metadata": {},
   "outputs": [],
   "source": [
    "df_origin = pd.read_excel('ИССЛЕДОВАНИЕ ПОВЕДЕНИЯ (Ответы).xlsx')"
   ]
  },
  {
   "cell_type": "markdown",
   "id": "8a25b5cd",
   "metadata": {},
   "source": [
    "## преобразуем таблицу"
   ]
  },
  {
   "cell_type": "code",
   "execution_count": 3,
   "id": "d691ba43",
   "metadata": {},
   "outputs": [],
   "source": [
    "# Считаем новый столбец с возрастной группой \n",
    "def group(col):\n",
    "    if col < 25:\n",
    "        val = 1\n",
    "    elif (col > 25) & (col < 35):\n",
    "        val = 2\n",
    "    elif (col > 35) & (col < 50):\n",
    "        val = 3\n",
    "    else :\n",
    "        val = 4\n",
    "    return str(val)"
   ]
  },
  {
   "cell_type": "code",
   "execution_count": 4,
   "id": "c0ed3de3",
   "metadata": {},
   "outputs": [],
   "source": [
    "df_origin['Возрастная категория'] = df_origin['Укажите ваш возраст'].apply (group)"
   ]
  },
  {
   "cell_type": "code",
   "execution_count": 5,
   "id": "d54e3d42",
   "metadata": {},
   "outputs": [],
   "source": [
    "# Меняем значение в столбце на более короткое\n",
    "df_origin.loc[df_origin['Выберете сферу вашей деятельности'] == 'Искусство и культура (кино, музыкальный бизнес, музеи и галереи, и т. д.)', \\\n",
    "       'Выберете сферу вашей деятельности'] = 'Сфера искусства'\n"
   ]
  },
  {
   "cell_type": "code",
   "execution_count": 6,
   "id": "d316f391",
   "metadata": {},
   "outputs": [],
   "source": [
    "# Удаляем дату\n",
    "df_origin.drop(['Отметка времени'], axis=1, inplace=True)"
   ]
  },
  {
   "cell_type": "code",
   "execution_count": 7,
   "id": "32cc32b0",
   "metadata": {},
   "outputs": [],
   "source": [
    "# переименовываем столбцы \n",
    "df_origin.rename(columns = {'Выберете пол': 'Пол', 'Женат / замужем': 'Семья',\n",
    "                    'Укажите ваш возраст': 'Возраст','Есть ли у вас дети?': 'Дети', \n",
    "                     'Выберете сферу вашей деятельности': 'Деятельность', \n",
    "                     'Оцените, как часто вы пользуетесь  социальными сетями?\\nОтветы даются по пятибалльной шкале:\\n1 – очень редко\\n2 – иногда\\n3 – часто\\n4 – очень часто\\n5 – практически не выхожу': 'Частота использования',\n",
    "                     'Перейдёте по ссылке по рекомендации друзей/знакомых?': 'Переход по ссылке', \n",
    "                     'Сделаете репост по просьбе друзей/знакомых?': 'Репост по просьбе', 'Какие чувства вызовет такая реклама услуг?': 'Что вызывает реклама услуг', 'Какие чувства вызовет просьба сделать репост?': 'Чувства от просьбы'\n",
    "                    }, inplace = True )\n"
   ]
  },
  {
   "cell_type": "code",
   "execution_count": 8,
   "id": "db84da46",
   "metadata": {},
   "outputs": [
    {
     "data": {
      "text/plain": [
       "Женский    67\n",
       "Мужской    18\n",
       "Name: Пол, dtype: int64"
      ]
     },
     "execution_count": 8,
     "metadata": {},
     "output_type": "execute_result"
    }
   ],
   "source": [
    "df_origin['Пол'].value_counts()"
   ]
  },
  {
   "cell_type": "markdown",
   "id": "38103823",
   "metadata": {},
   "source": [
    "### Количество мужчин и количество женщин в исходном файле  в значительной степени рознятся. Разделим таблицу на два отдельных df, мужской и женский "
   ]
  },
  {
   "cell_type": "code",
   "execution_count": 9,
   "id": "cecc238d",
   "metadata": {},
   "outputs": [
    {
     "data": {
      "text/html": [
       "<div>\n",
       "<style scoped>\n",
       "    .dataframe tbody tr th:only-of-type {\n",
       "        vertical-align: middle;\n",
       "    }\n",
       "\n",
       "    .dataframe tbody tr th {\n",
       "        vertical-align: top;\n",
       "    }\n",
       "\n",
       "    .dataframe thead th {\n",
       "        text-align: right;\n",
       "    }\n",
       "</style>\n",
       "<table border=\"1\" class=\"dataframe\">\n",
       "  <thead>\n",
       "    <tr style=\"text-align: right;\">\n",
       "      <th></th>\n",
       "      <th>Пол</th>\n",
       "      <th>Возраст</th>\n",
       "      <th>Семья</th>\n",
       "      <th>Дети</th>\n",
       "      <th>Высшее образование</th>\n",
       "      <th>Деятельность</th>\n",
       "      <th>Частота использования</th>\n",
       "      <th>Переход по ссылке</th>\n",
       "      <th>Репост по просьбе</th>\n",
       "      <th>Что вызывает реклама услуг</th>\n",
       "      <th>Чувства от просьбы</th>\n",
       "      <th>Возрастная категория</th>\n",
       "    </tr>\n",
       "  </thead>\n",
       "  <tbody>\n",
       "    <tr>\n",
       "      <th>0</th>\n",
       "      <td>Женский</td>\n",
       "      <td>28</td>\n",
       "      <td>Да</td>\n",
       "      <td>Нет</td>\n",
       "      <td>Да</td>\n",
       "      <td>Производство, промышленность</td>\n",
       "      <td>2</td>\n",
       "      <td>Да</td>\n",
       "      <td>Нет</td>\n",
       "      <td>Интерес</td>\n",
       "      <td>Меня используют (манипуляция)</td>\n",
       "      <td>2</td>\n",
       "    </tr>\n",
       "    <tr>\n",
       "      <th>1</th>\n",
       "      <td>Женский</td>\n",
       "      <td>37</td>\n",
       "      <td>Нет</td>\n",
       "      <td>Нет</td>\n",
       "      <td>Да</td>\n",
       "      <td>Транспорт и логистика</td>\n",
       "      <td>3</td>\n",
       "      <td>Да</td>\n",
       "      <td>Да</td>\n",
       "      <td>Интерес</td>\n",
       "      <td>Первые 3 ответа в зависимости от уровня проект...</td>\n",
       "      <td>3</td>\n",
       "    </tr>\n",
       "  </tbody>\n",
       "</table>\n",
       "</div>"
      ],
      "text/plain": [
       "       Пол  Возраст Семья Дети Высшее образование  \\\n",
       "0  Женский       28    Да  Нет                 Да   \n",
       "1  Женский       37   Нет  Нет                 Да   \n",
       "\n",
       "                   Деятельность  Частота использования Переход по ссылке  \\\n",
       "0  Производство, промышленность                      2                Да   \n",
       "1         Транспорт и логистика                      3                Да   \n",
       "\n",
       "  Репост по просьбе Что вызывает реклама услуг  \\\n",
       "0               Нет                    Интерес   \n",
       "1                Да                    Интерес   \n",
       "\n",
       "                                  Чувства от просьбы Возрастная категория  \n",
       "0                      Меня используют (манипуляция)                    2  \n",
       "1  Первые 3 ответа в зависимости от уровня проект...                    3  "
      ]
     },
     "execution_count": 9,
     "metadata": {},
     "output_type": "execute_result"
    }
   ],
   "source": [
    "woman = df_origin[df_origin['Пол'] == 'Женский'].reset_index()\n",
    "woman.reset_index(drop=True, inplace=True)\n",
    "woman.drop(['index'], axis=1, inplace=True)\n",
    "woman.head(2)"
   ]
  },
  {
   "cell_type": "code",
   "execution_count": 10,
   "id": "8ef22ab1",
   "metadata": {},
   "outputs": [
    {
     "data": {
      "text/html": [
       "<div>\n",
       "<style scoped>\n",
       "    .dataframe tbody tr th:only-of-type {\n",
       "        vertical-align: middle;\n",
       "    }\n",
       "\n",
       "    .dataframe tbody tr th {\n",
       "        vertical-align: top;\n",
       "    }\n",
       "\n",
       "    .dataframe thead th {\n",
       "        text-align: right;\n",
       "    }\n",
       "</style>\n",
       "<table border=\"1\" class=\"dataframe\">\n",
       "  <thead>\n",
       "    <tr style=\"text-align: right;\">\n",
       "      <th></th>\n",
       "      <th>Пол</th>\n",
       "      <th>Возраст</th>\n",
       "      <th>Семья</th>\n",
       "      <th>Дети</th>\n",
       "      <th>Высшее образование</th>\n",
       "      <th>Деятельность</th>\n",
       "      <th>Частота использования</th>\n",
       "      <th>Переход по ссылке</th>\n",
       "      <th>Репост по просьбе</th>\n",
       "      <th>Что вызывает реклама услуг</th>\n",
       "      <th>Чувства от просьбы</th>\n",
       "      <th>Возрастная категория</th>\n",
       "    </tr>\n",
       "  </thead>\n",
       "  <tbody>\n",
       "    <tr>\n",
       "      <th>0</th>\n",
       "      <td>Мужской</td>\n",
       "      <td>34</td>\n",
       "      <td>Да</td>\n",
       "      <td>Да</td>\n",
       "      <td>Да</td>\n",
       "      <td>Производство, промышленность</td>\n",
       "      <td>4</td>\n",
       "      <td>Да</td>\n",
       "      <td>Нет</td>\n",
       "      <td>Раздражение / агрессия</td>\n",
       "      <td>Стыд / неловкость / что подумают обо мне получ...</td>\n",
       "      <td>2</td>\n",
       "    </tr>\n",
       "    <tr>\n",
       "      <th>1</th>\n",
       "      <td>Мужской</td>\n",
       "      <td>40</td>\n",
       "      <td>Да</td>\n",
       "      <td>Да</td>\n",
       "      <td>Да</td>\n",
       "      <td>Сфера образования</td>\n",
       "      <td>2</td>\n",
       "      <td>Да</td>\n",
       "      <td>Да</td>\n",
       "      <td>Интерес</td>\n",
       "      <td>Желание помочь</td>\n",
       "      <td>3</td>\n",
       "    </tr>\n",
       "  </tbody>\n",
       "</table>\n",
       "</div>"
      ],
      "text/plain": [
       "       Пол  Возраст Семья Дети Высшее образование  \\\n",
       "0  Мужской       34    Да   Да                 Да   \n",
       "1  Мужской       40    Да   Да                 Да   \n",
       "\n",
       "                   Деятельность  Частота использования Переход по ссылке  \\\n",
       "0  Производство, промышленность                      4                Да   \n",
       "1             Сфера образования                      2                Да   \n",
       "\n",
       "  Репост по просьбе Что вызывает реклама услуг  \\\n",
       "0               Нет     Раздражение / агрессия   \n",
       "1                Да                    Интерес   \n",
       "\n",
       "                                  Чувства от просьбы Возрастная категория  \n",
       "0  Стыд / неловкость / что подумают обо мне получ...                    2  \n",
       "1                                     Желание помочь                    3  "
      ]
     },
     "execution_count": 10,
     "metadata": {},
     "output_type": "execute_result"
    }
   ],
   "source": [
    "man = df_origin[df_origin['Пол'] == 'Мужской'].reset_index()\n",
    "man.reset_index(drop=True, inplace=True)\n",
    "man.drop(['index'], axis=1, inplace=True)\n",
    "man.head(2)"
   ]
  },
  {
   "cell_type": "markdown",
   "id": "88a62aaf",
   "metadata": {},
   "source": [
    "- выравниваем таблицей по размеру и Соединяем их ниже "
   ]
  },
  {
   "cell_type": "code",
   "execution_count": 11,
   "id": "9db58146",
   "metadata": {},
   "outputs": [],
   "source": [
    "# if len(woman) > len(man):\n",
    "#     i = len(woman) - len(man)\n",
    "# elif len(woman) < len(man):\n",
    "#     i = len(man) - len(woman)\n",
    "# else:\n",
    "#     i = 0\n",
    "    \n",
    "# for j in range(i+1):\n",
    "#     if len(woman) > len(man):\n",
    "#         woman = woman.drop (index = 0 )\n",
    "#         woman.reset_index(drop=True, inplace=True)\n",
    "#     elif len(woman) < len(man):\n",
    "#         man = man.drop (index = 0 )\n",
    "#         man.reset_index(drop=True, inplace=True)\n",
    "#     else:\n",
    "#         print(len(man), len(woman))"
   ]
  },
  {
   "cell_type": "code",
   "execution_count": 12,
   "id": "fd99b605",
   "metadata": {},
   "outputs": [],
   "source": [
    "# frames = [woman, man]\n",
    "# df = pd.concat(frames)\n",
    "# df.reset_index(drop=True, inplace=True)\n",
    "# df.drop(['index'], axis=1, inplace=True)\n",
    "# df.sample(3)\n"
   ]
  },
  {
   "cell_type": "markdown",
   "id": "69f3664f",
   "metadata": {},
   "source": [
    "<div style=' margin-top: 122px; background: #EDEDED; padding: 22px 24px;'>\n",
    "    <p style=''><b>Частота использования социальных сетей</b></p>\n",
    "    <ul style='list-style-type: none'>\n",
    "    <li>1 - очень редко</li>\n",
    "    <li>2 - иногда</li>\n",
    "    <li>3 - часто</li>\n",
    "    <li>4 - очень часто</li>\n",
    "    <li>5 - практически не выхожу</li>\n",
    "    </ul></div>\n",
    "<div style=' background: #EDEDED; padding: 0 0 22px 24px;'>\n",
    "    <p style=''><b>Возрастная группа</b></p>\n",
    "    <ul style='list-style-type: none'>\n",
    "    <li>1 - Молодеж</li>\n",
    "    <li>2 - Средний возраст</li>\n",
    "    <li>3 - Зрелый возраст</li>\n",
    "    <li>4 - Пожилой возраст</li>\n",
    "    </ul></div>"
   ]
  },
  {
   "cell_type": "markdown",
   "id": "9ebf06f6",
   "metadata": {},
   "source": [
    "# Предлагаю познакомиться c данными\n",
    "### посмотрим, как выглядит наша аудитория "
   ]
  },
  {
   "cell_type": "code",
   "execution_count": 13,
   "id": "8de3f2df",
   "metadata": {},
   "outputs": [
    {
     "data": {
      "text/html": [
       "<style type=\"text/css\">\n",
       "</style>\n",
       "<table id=\"T_29e55\">\n",
       "  <thead>\n",
       "    <tr>\n",
       "      <th class=\"blank level0\" >&nbsp;</th>\n",
       "      <th id=\"T_29e55_level0_col0\" class=\"col_heading level0 col0\" >Возраст</th>\n",
       "      <th id=\"T_29e55_level0_col1\" class=\"col_heading level0 col1\" >Частота использования</th>\n",
       "    </tr>\n",
       "  </thead>\n",
       "  <tbody>\n",
       "    <tr>\n",
       "      <th id=\"T_29e55_level0_row0\" class=\"row_heading level0 row0\" >count</th>\n",
       "      <td id=\"T_29e55_row0_col0\" class=\"data row0 col0\" >18</td>\n",
       "      <td id=\"T_29e55_row0_col1\" class=\"data row0 col1\" >18</td>\n",
       "    </tr>\n",
       "    <tr>\n",
       "      <th id=\"T_29e55_level0_row1\" class=\"row_heading level0 row1\" >mean</th>\n",
       "      <td id=\"T_29e55_row1_col0\" class=\"data row1 col0\" >38</td>\n",
       "      <td id=\"T_29e55_row1_col1\" class=\"data row1 col1\" >3</td>\n",
       "    </tr>\n",
       "    <tr>\n",
       "      <th id=\"T_29e55_level0_row2\" class=\"row_heading level0 row2\" >std</th>\n",
       "      <td id=\"T_29e55_row2_col0\" class=\"data row2 col0\" >10</td>\n",
       "      <td id=\"T_29e55_row2_col1\" class=\"data row2 col1\" >1</td>\n",
       "    </tr>\n",
       "    <tr>\n",
       "      <th id=\"T_29e55_level0_row3\" class=\"row_heading level0 row3\" >min</th>\n",
       "      <td id=\"T_29e55_row3_col0\" class=\"data row3 col0\" >19</td>\n",
       "      <td id=\"T_29e55_row3_col1\" class=\"data row3 col1\" >1</td>\n",
       "    </tr>\n",
       "    <tr>\n",
       "      <th id=\"T_29e55_level0_row4\" class=\"row_heading level0 row4\" >25%</th>\n",
       "      <td id=\"T_29e55_row4_col0\" class=\"data row4 col0\" >30</td>\n",
       "      <td id=\"T_29e55_row4_col1\" class=\"data row4 col1\" >2</td>\n",
       "    </tr>\n",
       "    <tr>\n",
       "      <th id=\"T_29e55_level0_row5\" class=\"row_heading level0 row5\" >50%</th>\n",
       "      <td id=\"T_29e55_row5_col0\" class=\"data row5 col0\" >38</td>\n",
       "      <td id=\"T_29e55_row5_col1\" class=\"data row5 col1\" >3</td>\n",
       "    </tr>\n",
       "    <tr>\n",
       "      <th id=\"T_29e55_level0_row6\" class=\"row_heading level0 row6\" >75%</th>\n",
       "      <td id=\"T_29e55_row6_col0\" class=\"data row6 col0\" >44</td>\n",
       "      <td id=\"T_29e55_row6_col1\" class=\"data row6 col1\" >4</td>\n",
       "    </tr>\n",
       "    <tr>\n",
       "      <th id=\"T_29e55_level0_row7\" class=\"row_heading level0 row7\" >max</th>\n",
       "      <td id=\"T_29e55_row7_col0\" class=\"data row7 col0\" >60</td>\n",
       "      <td id=\"T_29e55_row7_col1\" class=\"data row7 col1\" >5</td>\n",
       "    </tr>\n",
       "  </tbody>\n",
       "</table>\n"
      ],
      "text/plain": [
       "<pandas.io.formats.style.Styler at 0x10fdcf520>"
      ]
     },
     "execution_count": 13,
     "metadata": {},
     "output_type": "execute_result"
    }
   ],
   "source": [
    "man.describe().style.format({'Возраст': '{0:,.0f}', 'Частота использования': '{0:,.0f}'})"
   ]
  },
  {
   "cell_type": "markdown",
   "id": "2a238d1d",
   "metadata": {},
   "source": [
    "## смотрим среднее значение частоты использования по полу, семейному положению, сферы деятельности "
   ]
  },
  {
   "cell_type": "code",
   "execution_count": 14,
   "id": "05bb7896",
   "metadata": {},
   "outputs": [
    {
     "ename": "NameError",
     "evalue": "name 'df' is not defined",
     "output_type": "error",
     "traceback": [
      "\u001b[0;31m---------------------------------------------------------------------------\u001b[0m",
      "\u001b[0;31mNameError\u001b[0m                                 Traceback (most recent call last)",
      "Input \u001b[0;32mIn [14]\u001b[0m, in \u001b[0;36m<cell line: 1>\u001b[0;34m()\u001b[0m\n\u001b[0;32m----> 1\u001b[0m table \u001b[38;5;241m=\u001b[39m pd\u001b[38;5;241m.\u001b[39mpivot_table(\u001b[43mdf\u001b[49m\u001b[38;5;241m.\u001b[39mround({\u001b[38;5;124m'\u001b[39m\u001b[38;5;124mЧастота использования\u001b[39m\u001b[38;5;124m'\u001b[39m: \u001b[38;5;241m1\u001b[39m}), columns\u001b[38;5;241m=\u001b[39m[\u001b[38;5;124m\"\u001b[39m\u001b[38;5;124mПол\u001b[39m\u001b[38;5;124m\"\u001b[39m,\u001b[38;5;124m\"\u001b[39m\u001b[38;5;124mСемья\u001b[39m\u001b[38;5;124m\"\u001b[39m],index\u001b[38;5;241m=\u001b[39m\u001b[38;5;124m\"\u001b[39m\u001b[38;5;124mДеятельность\u001b[39m\u001b[38;5;124m\"\u001b[39m,\n\u001b[1;32m      2\u001b[0m                        values\u001b[38;5;241m=\u001b[39m\u001b[38;5;124m\"\u001b[39m\u001b[38;5;124mЧастота использования\u001b[39m\u001b[38;5;124m\"\u001b[39m, aggfunc\u001b[38;5;241m=\u001b[39m{\u001b[38;5;124m\"\u001b[39m\u001b[38;5;124mЧастота использования\u001b[39m\u001b[38;5;124m\"\u001b[39m: np\u001b[38;5;241m.\u001b[39mmean},fill_value\u001b[38;5;241m=\u001b[39m\u001b[38;5;241m0\u001b[39m)\n\u001b[1;32m      3\u001b[0m table\u001b[38;5;241m.\u001b[39mround(\u001b[38;5;241m1\u001b[39m)\n",
      "\u001b[0;31mNameError\u001b[0m: name 'df' is not defined"
     ]
    }
   ],
   "source": [
    "table = pd.pivot_table(df.round({'Частота использования': 1}), columns=[\"Пол\",\"Семья\"],index=\"Деятельность\",\n",
    "                       values=\"Частота использования\", aggfunc={\"Частота использования\": np.mean},fill_value=0)\n",
    "table.round(1)"
   ]
  },
  {
   "cell_type": "markdown",
   "id": "4c361b5b",
   "metadata": {},
   "source": [
    "\n",
    "<div style='background: #C5E8EF; taxt-align: center; width: 444px; margin: auto; padding:44px; border: 1px solid #636363'>\n",
    "    <h5 style='color: #476285;  text-align:center; margin: auto'>\n",
    "        Выводы \n",
    "    </h5>\n",
    "</div>"
   ]
  },
  {
   "cell_type": "markdown",
   "id": "ab65b04e",
   "metadata": {},
   "source": [
    "###  Количество определенных возрастных категорий в каждой отрасли деятельности "
   ]
  },
  {
   "cell_type": "code",
   "execution_count": null,
   "id": "ca9cb65f",
   "metadata": {},
   "outputs": [],
   "source": [
    "pivot_count = pd.pivot_table(df, 'Частота использования', 'Деятельность', 'Возрастная категория', \n",
    "                             aggfunc=['count'])"
   ]
  },
  {
   "cell_type": "code",
   "execution_count": null,
   "id": "ffb46459",
   "metadata": {},
   "outputs": [],
   "source": [
    "pivot_count"
   ]
  },
  {
   "cell_type": "markdown",
   "id": "215d480b",
   "metadata": {},
   "source": [
    "\n",
    "<div style='background: #C5E8EF; taxt-align: center; width: 444px; margin: auto; padding:44px; border: 1px solid #636363'>\n",
    "    <h5 style='color: #476285;  text-align:center; margin: auto'>\n",
    "        Выводы \n",
    "    </h5>\n",
    "</div>"
   ]
  },
  {
   "cell_type": "code",
   "execution_count": null,
   "id": "fa070431",
   "metadata": {
    "scrolled": true
   },
   "outputs": [],
   "source": [
    "base = alt.Chart(df).encode(\n",
    "    theta=alt.Theta(\"Возраст:Q\", stack=True),\n",
    "    radius=alt.Radius(\"Возраст\", scale=alt.Scale(type=\"sqrt\", zero=True, rangeMin=20)),\n",
    "    color=\"Дети:N\",\n",
    ")\n",
    "\n",
    "c1 = base.mark_arc(innerRadius=20, stroke=\"#fff\")\n",
    "\n",
    "c2 = base.mark_text(radiusOffset=10).encode(text=\"Возраст:Q\")\n",
    "\n",
    "c1 + c2 "
   ]
  },
  {
   "cell_type": "markdown",
   "id": "7e3b5c38",
   "metadata": {},
   "source": [
    "### посмотрим частоту использования соц сетей, рассматривая наличие семьи и вид деятельности  "
   ]
  },
  {
   "cell_type": "code",
   "execution_count": null,
   "id": "8d6fcffb",
   "metadata": {
    "scrolled": true
   },
   "outputs": [],
   "source": [
    "df.groupby([df['Семья'], df['Деятельность']])['Частота использования'].agg(['min', 'median', 'max']).style.format({'median': '{0:,.0f}'})\n"
   ]
  },
  {
   "cell_type": "markdown",
   "id": "b54d3ea6",
   "metadata": {},
   "source": [
    "\n",
    "<div style='background: #C5E8EF; taxt-align: center; width: 444px; margin: auto; padding:44px; border: 1px solid #636363'>\n",
    "    <h5 style='color: #476285;  text-align:center; margin: auto'>\n",
    "        яркая картина того, что у людей семьей меньше времени на то, чтобы тратить его на социальные сети  \n",
    "    </h5>\n",
    "</div>"
   ]
  },
  {
   "cell_type": "code",
   "execution_count": null,
   "id": "fa046e2f",
   "metadata": {},
   "outputs": [],
   "source": [
    "# all_income = list(df_origin['Что вызывает реклама услуг'])\n",
    "# in_form = ['Желание помочь', 'Потребность поделиться', 'Стыд / неловкость / что подумают обо мне получатели', \n",
    "#               'Раздражение / агрессия', 'Меня используют (манипуляция)', 'Равнодушие']\n",
    "# lst_= []"
   ]
  },
  {
   "cell_type": "code",
   "execution_count": null,
   "id": "7a6472ea",
   "metadata": {},
   "outputs": [],
   "source": [
    "# for id, val in enumerate(all_income):\n",
    "#     if val not in in_form:\n",
    "#         lst.append(val)\n",
    "    "
   ]
  },
  {
   "cell_type": "code",
   "execution_count": null,
   "id": "06897606",
   "metadata": {
    "scrolled": true
   },
   "outputs": [],
   "source": [
    "range_color1 = ['#040745', '#00F946']\n",
    "               \n",
    "chart1 = alt.Chart(df, title='Что вызывает рекламу услуг по возрасту').mark_bar().encode(\n",
    "    x='Возраст:N',\n",
    "    y='Что вызывает реклама услуг',\n",
    "    color=alt.Color('Частота использования', scale=alt.Scale(range=range_color1)\n",
    "))\n",
    "chart1 = chart1.configure_title(fontSize=20, offset=5, orient='top', anchor='middle')"
   ]
  },
  {
   "cell_type": "code",
   "execution_count": null,
   "id": "7ccbebdc",
   "metadata": {},
   "outputs": [],
   "source": [
    "chart1"
   ]
  },
  {
   "cell_type": "code",
   "execution_count": null,
   "id": "14c2fa49",
   "metadata": {},
   "outputs": [],
   "source": [
    "range_color2 = ['#F6EE83', '#8D0107']\n",
    "\n",
    "chart2 = alt.Chart(df, title='Чувства от просьбы по возрасту').mark_bar().encode(\n",
    "    x='Возраст:N',\n",
    "    y='Чувства от просьбы',\n",
    "    color=alt.Color('Частота использования', scale=alt.Scale(range=range_color2)\n",
    "))\n",
    "chart2 = chart2.configure_title(fontSize=20, offset=5, orient='top', anchor='middle')"
   ]
  },
  {
   "cell_type": "code",
   "execution_count": null,
   "id": "ea7ae079",
   "metadata": {},
   "outputs": [],
   "source": [
    "chart2"
   ]
  },
  {
   "cell_type": "markdown",
   "id": "a690d521",
   "metadata": {},
   "source": [
    "\n",
    "<div style='background: #C5E8EF; taxt-align: center; width: 444px; margin: auto; padding:44px; border: 1px solid #636363'>\n",
    "    <h5 style='color: #476285;  text-align:center; margin: auto'>\n",
    "        Выводы \n",
    "    </h5>\n",
    "</div>"
   ]
  },
  {
   "cell_type": "code",
   "execution_count": null,
   "id": "154fbf89",
   "metadata": {
    "scrolled": true
   },
   "outputs": [],
   "source": [
    "range_color3 = ['#F6EE83', '#B5A59C', '#46587C', '#564423', '#55A020', '#905869', '#27B78D', '#50630F', \n",
    "                '#17ADBE', '#C26854', '#D6B8F5', '#8D0107', '#7A4D7A', '#E6676A', '#3D429C', '#E27AD6', \n",
    "                '#7B2BA8']\n",
    "\n",
    "chart3 = alt.Chart(df, title='Чувства от просьбы в каждой должности').mark_bar().encode(\n",
    "    x='Чувства от просьбы:O',\n",
    "    y='sum(Возраст):Q',\n",
    "    color=alt.Color('Частота использования:N', scale=alt.Scale(range=range_color3)),\n",
    "    column='Деятельность:N'\n",
    ") \n",
    "chart3 = chart3.configure_title(fontSize=20, offset=15, orient='top', anchor='start')"
   ]
  },
  {
   "cell_type": "code",
   "execution_count": null,
   "id": "4566e9f4",
   "metadata": {},
   "outputs": [],
   "source": [
    "chart3"
   ]
  },
  {
   "cell_type": "markdown",
   "id": "e4748fea",
   "metadata": {},
   "source": [
    "###  х"
   ]
  },
  {
   "cell_type": "code",
   "execution_count": null,
   "id": "0ce7a6f5",
   "metadata": {},
   "outputs": [],
   "source": [
    "chart4 = alt.Chart(df, title='Есть ли взаимосвязь привязанности к социальным сетям от чувств от рекламных услуг')\\\n",
    ".mark_bar(size=50).encode(\n",
    "        x='Частота использования:Q',\n",
    "        y=alt.X('count()', axis=alt.Axis(title='Количество пользователей')),\n",
    "        color=alt.Color('Что вызывает реклама услуг', scale=alt.Scale(range=range_color3))\n",
    "    ).properties(\n",
    "    width=800,\n",
    "    height=300\n",
    ")\n",
    "\n",
    "chart4 = chart4.configure_title(fontSize=20, offset=45, orient='top', anchor='middle')"
   ]
  },
  {
   "cell_type": "code",
   "execution_count": null,
   "id": "e27438f9",
   "metadata": {},
   "outputs": [],
   "source": [
    "chart4"
   ]
  },
  {
   "cell_type": "markdown",
   "id": "ff1af3b6",
   "metadata": {},
   "source": [
    "\n",
    "<div style='background: #225C68; taxt-align: center; width: 444px; margin: auto; padding:44px; border: 1px solid #636363'>\n",
    "    <h5 style='color: #ffffff;  text-align:center; margin: auto'>\n",
    "        тут что-нибудь написать про тех кто почти не вылезает из сот сетей, что они равнодушный к рекламе  \n",
    "    </h5>\n",
    "</div>"
   ]
  },
  {
   "cell_type": "code",
   "execution_count": null,
   "id": "3d9ab7e5",
   "metadata": {},
   "outputs": [],
   "source": [
    "\n",
    "chart5 = alt.Chart(df, title='Влияют ли дети на наши чувства').mark_bar().encode(\n",
    "        x='Чувства от просьбы:N',\n",
    "        y=alt.X('count()', axis=alt.Axis(title='Количество')),\n",
    "        color=alt.Color('Дети', scale=alt.Scale(range=range_color3))\n",
    "    ).properties(\n",
    "    width=800,\n",
    "    height=300\n",
    ")\n",
    "chart5 = chart5.configure_title(fontSize=20, offset=5, orient='top', anchor='middle')"
   ]
  },
  {
   "cell_type": "code",
   "execution_count": null,
   "id": "df9e3f94",
   "metadata": {},
   "outputs": [],
   "source": [
    "chart5"
   ]
  },
  {
   "cell_type": "code",
   "execution_count": null,
   "id": "265c880b",
   "metadata": {},
   "outputs": [],
   "source": [
    "# !jupyter nbconvert --to html pract.ipynb  "
   ]
  },
  {
   "cell_type": "code",
   "execution_count": null,
   "id": "278ce4e7",
   "metadata": {},
   "outputs": [],
   "source": []
  },
  {
   "cell_type": "code",
   "execution_count": null,
   "id": "3752d92d",
   "metadata": {},
   "outputs": [],
   "source": []
  },
  {
   "cell_type": "code",
   "execution_count": null,
   "id": "141e0df7",
   "metadata": {},
   "outputs": [],
   "source": []
  },
  {
   "cell_type": "code",
   "execution_count": null,
   "id": "e6eb797c",
   "metadata": {},
   "outputs": [],
   "source": [
    "ygyhuhuhu"
   ]
  },
  {
   "cell_type": "code",
   "execution_count": null,
   "id": "bc4d1953",
   "metadata": {},
   "outputs": [],
   "source": []
  },
  {
   "cell_type": "code",
   "execution_count": null,
   "id": "6e02c748",
   "metadata": {},
   "outputs": [],
   "source": [
    "ygyhuhuhu"
   ]
  },
  {
   "cell_type": "code",
   "execution_count": null,
   "id": "88fdb114",
   "metadata": {},
   "outputs": [],
   "source": [
    "df.to_excel('Behavior.xlsx')"
   ]
  },
  {
   "cell_type": "markdown",
   "id": "248e98b9",
   "metadata": {},
   "source": [
    "<div style='background: #FFE7DF; border-radius:10px; taxt-align: center; width: 444px; margin: 55px auto; padding:44px; border: 1px solid #754F4F'>\n",
    "    <h5 style=' text-align:center; margin: auto'>\n",
    "         Экспортируем файл для дальнейшей кластеризации. \n",
    "    </h5>\n",
    "</div>"
   ]
  }
 ],
 "metadata": {
  "kernelspec": {
   "display_name": "Python 3 (ipykernel)",
   "language": "python",
   "name": "python3"
  },
  "language_info": {
   "codemirror_mode": {
    "name": "ipython",
    "version": 3
   },
   "file_extension": ".py",
   "mimetype": "text/x-python",
   "name": "python",
   "nbconvert_exporter": "python",
   "pygments_lexer": "ipython3",
   "version": "3.10.5"
  }
 },
 "nbformat": 4,
 "nbformat_minor": 5
}
