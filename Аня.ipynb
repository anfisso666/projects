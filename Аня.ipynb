{
 "cells": [
  {
   "cell_type": "code",
   "execution_count": 1,
   "id": "0996ffb5",
   "metadata": {},
   "outputs": [],
   "source": [
    "import pandas as pd\n",
    "import numpy as np"
   ]
  },
  {
   "cell_type": "code",
   "execution_count": 2,
   "id": "e237e5ac",
   "metadata": {},
   "outputs": [],
   "source": [
    "#  данные \n",
    "xls = pd.ExcelFile('объект.xlsx')\n",
    "object_ = pd.read_excel(xls, 'объекты')\n",
    "time = pd.read_excel(xls, 'время')"
   ]
  },
  {
   "cell_type": "code",
   "execution_count": 3,
   "id": "7d7b2125",
   "metadata": {},
   "outputs": [],
   "source": [
    "object_ = object_.dropna() # удаляем nan"
   ]
  },
  {
   "cell_type": "code",
   "execution_count": 4,
   "id": "06cbab27",
   "metadata": {},
   "outputs": [],
   "source": [
    "# Имена сотрудников – индекс\n",
    "object_ = object_.set_index('сотрудник')\n",
    "time = time.set_index('сотрудник')"
   ]
  },
  {
   "cell_type": "code",
   "execution_count": 5,
   "id": "b3de6d14",
   "metadata": {},
   "outputs": [
    {
     "data": {
      "text/html": [
       "<div>\n",
       "<style scoped>\n",
       "    .dataframe tbody tr th:only-of-type {\n",
       "        vertical-align: middle;\n",
       "    }\n",
       "\n",
       "    .dataframe tbody tr th {\n",
       "        vertical-align: top;\n",
       "    }\n",
       "\n",
       "    .dataframe thead th {\n",
       "        text-align: right;\n",
       "    }\n",
       "</style>\n",
       "<table border=\"1\" class=\"dataframe\">\n",
       "  <thead>\n",
       "    <tr style=\"text-align: right;\">\n",
       "      <th></th>\n",
       "      <th>2022-09-12 00:00:00</th>\n",
       "      <th>2022-09-13 00:00:00</th>\n",
       "      <th>2022-09-14 00:00:00</th>\n",
       "      <th>2022-09-15 00:00:00</th>\n",
       "    </tr>\n",
       "    <tr>\n",
       "      <th>сотрудник</th>\n",
       "      <th></th>\n",
       "      <th></th>\n",
       "      <th></th>\n",
       "      <th></th>\n",
       "    </tr>\n",
       "  </thead>\n",
       "  <tbody>\n",
       "    <tr>\n",
       "      <th>Иванов</th>\n",
       "      <td>2569 км</td>\n",
       "      <td>2569 км</td>\n",
       "      <td>ст.Новая</td>\n",
       "      <td>ст.Новая</td>\n",
       "    </tr>\n",
       "    <tr>\n",
       "      <th>Петров</th>\n",
       "      <td>2569 км</td>\n",
       "      <td>2569 км</td>\n",
       "      <td>ст.Новая</td>\n",
       "      <td>ст.Новая</td>\n",
       "    </tr>\n",
       "    <tr>\n",
       "      <th>Кузнецов</th>\n",
       "      <td>2569 км</td>\n",
       "      <td>ст. Первая</td>\n",
       "      <td>ст. Первая</td>\n",
       "      <td>ст.Первая</td>\n",
       "    </tr>\n",
       "  </tbody>\n",
       "</table>\n",
       "</div>"
      ],
      "text/plain": [
       "          2022-09-12 00:00:00 2022-09-13 00:00:00 2022-09-14 00:00:00  \\\n",
       "сотрудник                                                               \n",
       "Иванов                2569 км             2569 км            ст.Новая   \n",
       "Петров                2569 км             2569 км            ст.Новая   \n",
       "Кузнецов              2569 км          ст. Первая          ст. Первая   \n",
       "\n",
       "          2022-09-15 00:00:00  \n",
       "сотрудник                      \n",
       "Иванов               ст.Новая  \n",
       "Петров               ст.Новая  \n",
       "Кузнецов            ст.Первая  "
      ]
     },
     "execution_count": 5,
     "metadata": {},
     "output_type": "execute_result"
    }
   ],
   "source": [
    "object_"
   ]
  },
  {
   "cell_type": "code",
   "execution_count": 6,
   "id": "88c30e73",
   "metadata": {},
   "outputs": [
    {
     "data": {
      "text/html": [
       "<div>\n",
       "<style scoped>\n",
       "    .dataframe tbody tr th:only-of-type {\n",
       "        vertical-align: middle;\n",
       "    }\n",
       "\n",
       "    .dataframe tbody tr th {\n",
       "        vertical-align: top;\n",
       "    }\n",
       "\n",
       "    .dataframe thead th {\n",
       "        text-align: right;\n",
       "    }\n",
       "</style>\n",
       "<table border=\"1\" class=\"dataframe\">\n",
       "  <thead>\n",
       "    <tr style=\"text-align: right;\">\n",
       "      <th></th>\n",
       "      <th>2022-09-12 00:00:00</th>\n",
       "      <th>2022-09-13 00:00:00</th>\n",
       "      <th>2022-09-14 00:00:00</th>\n",
       "      <th>2022-09-15 00:00:00</th>\n",
       "    </tr>\n",
       "    <tr>\n",
       "      <th>сотрудник</th>\n",
       "      <th></th>\n",
       "      <th></th>\n",
       "      <th></th>\n",
       "      <th></th>\n",
       "    </tr>\n",
       "  </thead>\n",
       "  <tbody>\n",
       "    <tr>\n",
       "      <th>Иванов</th>\n",
       "      <td>8</td>\n",
       "      <td>8</td>\n",
       "      <td>8</td>\n",
       "      <td>8</td>\n",
       "    </tr>\n",
       "    <tr>\n",
       "      <th>Петров</th>\n",
       "      <td>12</td>\n",
       "      <td>8</td>\n",
       "      <td>12</td>\n",
       "      <td>8</td>\n",
       "    </tr>\n",
       "    <tr>\n",
       "      <th>Кузнецов</th>\n",
       "      <td>12</td>\n",
       "      <td>8</td>\n",
       "      <td>12</td>\n",
       "      <td>8</td>\n",
       "    </tr>\n",
       "  </tbody>\n",
       "</table>\n",
       "</div>"
      ],
      "text/plain": [
       "           2022-09-12 00:00:00  2022-09-13 00:00:00  2022-09-14 00:00:00  \\\n",
       "сотрудник                                                                  \n",
       "Иванов                       8                    8                    8   \n",
       "Петров                      12                    8                   12   \n",
       "Кузнецов                    12                    8                   12   \n",
       "\n",
       "           2022-09-15 00:00:00  \n",
       "сотрудник                       \n",
       "Иванов                       8  \n",
       "Петров                       8  \n",
       "Кузнецов                     8  "
      ]
     },
     "execution_count": 6,
     "metadata": {},
     "output_type": "execute_result"
    }
   ],
   "source": [
    "time"
   ]
  },
  {
   "cell_type": "code",
   "execution_count": 7,
   "id": "920d7f3f",
   "metadata": {},
   "outputs": [],
   "source": [
    "# Преобразуем таблицы \n",
    "object_ = object_.stack().rename_axis(('Имя','Дата')).reset_index(name='Объект') \n",
    "time = time.stack().rename_axis(('Имя','Дата')).reset_index(name='Час') "
   ]
  },
  {
   "cell_type": "code",
   "execution_count": 8,
   "id": "37a27be3",
   "metadata": {
    "scrolled": true
   },
   "outputs": [
    {
     "data": {
      "text/html": [
       "<div>\n",
       "<style scoped>\n",
       "    .dataframe tbody tr th:only-of-type {\n",
       "        vertical-align: middle;\n",
       "    }\n",
       "\n",
       "    .dataframe tbody tr th {\n",
       "        vertical-align: top;\n",
       "    }\n",
       "\n",
       "    .dataframe thead th {\n",
       "        text-align: right;\n",
       "    }\n",
       "</style>\n",
       "<table border=\"1\" class=\"dataframe\">\n",
       "  <thead>\n",
       "    <tr style=\"text-align: right;\">\n",
       "      <th></th>\n",
       "      <th></th>\n",
       "      <th>sum</th>\n",
       "    </tr>\n",
       "    <tr>\n",
       "      <th>Дата</th>\n",
       "      <th>Объект</th>\n",
       "      <th></th>\n",
       "    </tr>\n",
       "  </thead>\n",
       "  <tbody>\n",
       "    <tr>\n",
       "      <th>2022-09-12</th>\n",
       "      <th>2569 км</th>\n",
       "      <td>32</td>\n",
       "    </tr>\n",
       "    <tr>\n",
       "      <th rowspan=\"2\" valign=\"top\">2022-09-13</th>\n",
       "      <th>2569 км</th>\n",
       "      <td>16</td>\n",
       "    </tr>\n",
       "    <tr>\n",
       "      <th>ст. Первая</th>\n",
       "      <td>8</td>\n",
       "    </tr>\n",
       "    <tr>\n",
       "      <th rowspan=\"2\" valign=\"top\">2022-09-14</th>\n",
       "      <th>ст. Первая</th>\n",
       "      <td>12</td>\n",
       "    </tr>\n",
       "    <tr>\n",
       "      <th>ст.Новая</th>\n",
       "      <td>20</td>\n",
       "    </tr>\n",
       "    <tr>\n",
       "      <th rowspan=\"2\" valign=\"top\">2022-09-15</th>\n",
       "      <th>ст.Новая</th>\n",
       "      <td>16</td>\n",
       "    </tr>\n",
       "    <tr>\n",
       "      <th>ст.Первая</th>\n",
       "      <td>8</td>\n",
       "    </tr>\n",
       "  </tbody>\n",
       "</table>\n",
       "</div>"
      ],
      "text/plain": [
       "                       sum\n",
       "Дата       Объект         \n",
       "2022-09-12 2569 км      32\n",
       "2022-09-13 2569 км      16\n",
       "           ст. Первая    8\n",
       "2022-09-14 ст. Первая   12\n",
       "           ст.Новая     20\n",
       "2022-09-15 ст.Новая     16\n",
       "           ст.Первая     8"
      ]
     },
     "execution_count": 8,
     "metadata": {},
     "output_type": "execute_result"
    }
   ],
   "source": [
    "# Объединяем \n",
    "join = object_.merge(time, how = 'inner', left_on=['Имя', 'Дата'], right_on=['Имя', 'Дата'])\n",
    "join = join.groupby(['Дата', 'Объект'])['Час'].agg(['sum'])\n",
    "join"
   ]
  },
  {
   "cell_type": "code",
   "execution_count": 9,
   "id": "82151f22",
   "metadata": {},
   "outputs": [
    {
     "data": {
      "text/html": [
       "<div>\n",
       "<style scoped>\n",
       "    .dataframe tbody tr th:only-of-type {\n",
       "        vertical-align: middle;\n",
       "    }\n",
       "\n",
       "    .dataframe tbody tr th {\n",
       "        vertical-align: top;\n",
       "    }\n",
       "\n",
       "    .dataframe thead th {\n",
       "        text-align: right;\n",
       "    }\n",
       "</style>\n",
       "<table border=\"1\" class=\"dataframe\">\n",
       "  <thead>\n",
       "    <tr style=\"text-align: right;\">\n",
       "      <th>Дата</th>\n",
       "      <th>2022-09-12</th>\n",
       "      <th>2022-09-13</th>\n",
       "      <th>2022-09-14</th>\n",
       "      <th>2022-09-15</th>\n",
       "    </tr>\n",
       "    <tr>\n",
       "      <th>Объект</th>\n",
       "      <th></th>\n",
       "      <th></th>\n",
       "      <th></th>\n",
       "      <th></th>\n",
       "    </tr>\n",
       "  </thead>\n",
       "  <tbody>\n",
       "    <tr>\n",
       "      <th>2569 км</th>\n",
       "      <td>32.0</td>\n",
       "      <td>16.0</td>\n",
       "      <td>NaN</td>\n",
       "      <td>NaN</td>\n",
       "    </tr>\n",
       "    <tr>\n",
       "      <th>ст. Первая</th>\n",
       "      <td>NaN</td>\n",
       "      <td>8.0</td>\n",
       "      <td>12.0</td>\n",
       "      <td>NaN</td>\n",
       "    </tr>\n",
       "    <tr>\n",
       "      <th>ст.Новая</th>\n",
       "      <td>NaN</td>\n",
       "      <td>NaN</td>\n",
       "      <td>20.0</td>\n",
       "      <td>16.0</td>\n",
       "    </tr>\n",
       "    <tr>\n",
       "      <th>ст.Первая</th>\n",
       "      <td>NaN</td>\n",
       "      <td>NaN</td>\n",
       "      <td>NaN</td>\n",
       "      <td>8.0</td>\n",
       "    </tr>\n",
       "  </tbody>\n",
       "</table>\n",
       "</div>"
      ],
      "text/plain": [
       "Дата        2022-09-12  2022-09-13  2022-09-14  2022-09-15\n",
       "Объект                                                    \n",
       "2569 км           32.0        16.0         NaN         NaN\n",
       "ст. Первая         NaN         8.0        12.0         NaN\n",
       "ст.Новая           NaN         NaN        20.0        16.0\n",
       "ст.Первая          NaN         NaN         NaN         8.0"
      ]
     },
     "execution_count": 9,
     "metadata": {},
     "output_type": "execute_result"
    }
   ],
   "source": [
    "# Сводная таблица \n",
    "table = pd.pivot_table(join, values='sum', index=['Объект'],\n",
    "                    columns=['Дата'])\n",
    "table"
   ]
  }
 ],
 "metadata": {
  "kernelspec": {
   "display_name": "Python 3 (ipykernel)",
   "language": "python",
   "name": "python3"
  },
  "language_info": {
   "codemirror_mode": {
    "name": "ipython",
    "version": 3
   },
   "file_extension": ".py",
   "mimetype": "text/x-python",
   "name": "python",
   "nbconvert_exporter": "python",
   "pygments_lexer": "ipython3",
   "version": "3.10.5"
  }
 },
 "nbformat": 4,
 "nbformat_minor": 5
}
