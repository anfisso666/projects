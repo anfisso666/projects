{
 "cells": [
  {
   "cell_type": "code",
   "execution_count": 1,
   "id": "d36b9c74",
   "metadata": {},
   "outputs": [],
   "source": [
    "import pandas as pd\n",
    "import numpy as np"
   ]
  },
  {
   "cell_type": "markdown",
   "id": "ee4e76ba",
   "metadata": {},
   "source": [
    "## 1. ОП проект счёт"
   ]
  },
  {
   "cell_type": "code",
   "execution_count": 2,
   "id": "c45bfac9",
   "metadata": {},
   "outputs": [],
   "source": [
    "ss_project_invoice = pd.read_excel('files/ОП_Проект_Счет.xlsx')"
   ]
  },
  {
   "cell_type": "code",
   "execution_count": 3,
   "id": "09f369bf",
   "metadata": {},
   "outputs": [
    {
     "data": {
      "text/html": [
       "<div>\n",
       "<style scoped>\n",
       "    .dataframe tbody tr th:only-of-type {\n",
       "        vertical-align: middle;\n",
       "    }\n",
       "\n",
       "    .dataframe tbody tr th {\n",
       "        vertical-align: top;\n",
       "    }\n",
       "\n",
       "    .dataframe thead th {\n",
       "        text-align: right;\n",
       "    }\n",
       "</style>\n",
       "<table border=\"1\" class=\"dataframe\">\n",
       "  <thead>\n",
       "    <tr style=\"text-align: right;\">\n",
       "      <th></th>\n",
       "      <th>Обособленное подразделение</th>\n",
       "      <th>Проект</th>\n",
       "      <th>Код проекта</th>\n",
       "      <th>Расчетные счета</th>\n",
       "    </tr>\n",
       "  </thead>\n",
       "  <tbody>\n",
       "    <tr>\n",
       "      <th>0</th>\n",
       "      <td>Газопровод-отвод и ГРС \"Селятино\" со строитель...</td>\n",
       "      <td>СМР по реконструкции газопровода-отвода и ГРС ...</td>\n",
       "      <td>2008</td>\n",
       "      <td>40702810500000049708</td>\n",
       "    </tr>\n",
       "    <tr>\n",
       "      <th>1</th>\n",
       "      <td>Корвет-Киренск</td>\n",
       "      <td>СМР Этап 1Линейн.часть газопровода в составе с...</td>\n",
       "      <td>2002</td>\n",
       "      <td>40702810400000022472</td>\n",
       "    </tr>\n",
       "    <tr>\n",
       "      <th>2</th>\n",
       "      <td>Корвет-Киренск</td>\n",
       "      <td>СМР Этап 5.1Компрессорная станция КС-1\"Салдыке...</td>\n",
       "      <td>2003</td>\n",
       "      <td>40702810100000024068</td>\n",
       "    </tr>\n",
       "    <tr>\n",
       "      <th>3</th>\n",
       "      <td>Корвет-Киренск</td>\n",
       "      <td>СМР по организ.рельефа УКПГ-3 в сост. стройки ...</td>\n",
       "      <td>2005</td>\n",
       "      <td>40702810900000022477</td>\n",
       "    </tr>\n",
       "    <tr>\n",
       "      <th>4</th>\n",
       "      <td>Корвет-Киренск</td>\n",
       "      <td>СМР промбаза Нючакан по мульчир. на обьекте в ...</td>\n",
       "      <td>2005</td>\n",
       "      <td>40702810300000028628</td>\n",
       "    </tr>\n",
       "  </tbody>\n",
       "</table>\n",
       "</div>"
      ],
      "text/plain": [
       "                          Обособленное подразделение  \\\n",
       "0  Газопровод-отвод и ГРС \"Селятино\" со строитель...   \n",
       "1                                     Корвет-Киренск   \n",
       "2                                     Корвет-Киренск   \n",
       "3                                     Корвет-Киренск   \n",
       "4                                     Корвет-Киренск   \n",
       "\n",
       "                                              Проект Код проекта  \\\n",
       "0  СМР по реконструкции газопровода-отвода и ГРС ...        2008   \n",
       "1  СМР Этап 1Линейн.часть газопровода в составе с...        2002   \n",
       "2  СМР Этап 5.1Компрессорная станция КС-1\"Салдыке...        2003   \n",
       "3  СМР по организ.рельефа УКПГ-3 в сост. стройки ...        2005   \n",
       "4  СМР промбаза Нючакан по мульчир. на обьекте в ...        2005   \n",
       "\n",
       "        Расчетные счета  \n",
       "0  40702810500000049708  \n",
       "1  40702810400000022472  \n",
       "2  40702810100000024068  \n",
       "3  40702810900000022477  \n",
       "4  40702810300000028628  "
      ]
     },
     "execution_count": 3,
     "metadata": {},
     "output_type": "execute_result"
    }
   ],
   "source": [
    "ss_project_invoice.head()"
   ]
  },
  {
   "cell_type": "markdown",
   "id": "a5984e3d",
   "metadata": {},
   "source": [
    "## 2. статьи затрат "
   ]
  },
  {
   "cell_type": "code",
   "execution_count": 4,
   "id": "a05166d3",
   "metadata": {},
   "outputs": [],
   "source": [
    "cost_items = pd.read_excel('files/Статьи_затрат.xlsx', header=None)\n",
    "cost_items.columns = ['Счет', 'Статья затрат']"
   ]
  },
  {
   "cell_type": "code",
   "execution_count": 5,
   "id": "d60b5657",
   "metadata": {},
   "outputs": [
    {
     "data": {
      "text/html": [
       "<div>\n",
       "<style scoped>\n",
       "    .dataframe tbody tr th:only-of-type {\n",
       "        vertical-align: middle;\n",
       "    }\n",
       "\n",
       "    .dataframe tbody tr th {\n",
       "        vertical-align: top;\n",
       "    }\n",
       "\n",
       "    .dataframe thead th {\n",
       "        text-align: right;\n",
       "    }\n",
       "</style>\n",
       "<table border=\"1\" class=\"dataframe\">\n",
       "  <thead>\n",
       "    <tr style=\"text-align: right;\">\n",
       "      <th></th>\n",
       "      <th>Счет</th>\n",
       "      <th>Статья затрат</th>\n",
       "    </tr>\n",
       "  </thead>\n",
       "  <tbody>\n",
       "    <tr>\n",
       "      <th>0</th>\n",
       "      <td>60</td>\n",
       "      <td>Расчеты с поставщиками</td>\n",
       "    </tr>\n",
       "    <tr>\n",
       "      <th>1</th>\n",
       "      <td>62</td>\n",
       "      <td>Расчеты с покупателями</td>\n",
       "    </tr>\n",
       "    <tr>\n",
       "      <th>2</th>\n",
       "      <td>68</td>\n",
       "      <td>Расчеты по налогам</td>\n",
       "    </tr>\n",
       "    <tr>\n",
       "      <th>3</th>\n",
       "      <td>69</td>\n",
       "      <td>Расчеты по страховым взносам</td>\n",
       "    </tr>\n",
       "    <tr>\n",
       "      <th>4</th>\n",
       "      <td>70</td>\n",
       "      <td>Расчеты по заработной плате</td>\n",
       "    </tr>\n",
       "  </tbody>\n",
       "</table>\n",
       "</div>"
      ],
      "text/plain": [
       "   Счет                 Статья затрат\n",
       "0    60        Расчеты с поставщиками\n",
       "1    62        Расчеты с покупателями\n",
       "2    68            Расчеты по налогам\n",
       "3    69  Расчеты по страховым взносам\n",
       "4    70   Расчеты по заработной плате"
      ]
     },
     "execution_count": 5,
     "metadata": {},
     "output_type": "execute_result"
    }
   ],
   "source": [
    "cost_items.head()"
   ]
  },
  {
   "cell_type": "markdown",
   "id": "2971a60c",
   "metadata": {},
   "source": [
    "## код_2008_Кт51"
   ]
  },
  {
   "cell_type": "code",
   "execution_count": 6,
   "id": "c9ccf328",
   "metadata": {},
   "outputs": [],
   "source": [
    "ct_51 = pd.read_excel('files/Селятино/код_2008_Кт51.xlsx', skiprows=8)[:-1] # без первых строк и последней "
   ]
  },
  {
   "cell_type": "code",
   "execution_count": 7,
   "id": "67f3deb7",
   "metadata": {},
   "outputs": [],
   "source": [
    "# удаляем колонки \n",
    "ct_51 = ct_51.drop(['Unnamed: 6', 'Счет.1', 'Unnamed: 8'], axis=1) \n",
    "# Оставляю колонку Unnamed: 5 для последующего просчета -Сумма расхода"
   ]
  },
  {
   "cell_type": "code",
   "execution_count": 8,
   "id": "d46d042e",
   "metadata": {},
   "outputs": [],
   "source": [
    "# Делим столбец -3\n",
    "ct_51['Имя'] = ct_51['Unnamed: 3'].str.split('\\n', 1).str[0]\n",
    "ct_51['Расчётный счёт'] = ct_51['Unnamed: 3'].str.split('\\n', 1).str[1].str[:20]\n",
    "\n",
    "# Колонка с со счётом - только первые два символа\n",
    "ct_51['Счет'] = ct_51['Счет'].str[:2].astype(int)"
   ]
  },
  {
   "cell_type": "code",
   "execution_count": 9,
   "id": "9526e2ff",
   "metadata": {},
   "outputs": [
    {
     "data": {
      "text/html": [
       "<div>\n",
       "<style scoped>\n",
       "    .dataframe tbody tr th:only-of-type {\n",
       "        vertical-align: middle;\n",
       "    }\n",
       "\n",
       "    .dataframe tbody tr th {\n",
       "        vertical-align: top;\n",
       "    }\n",
       "\n",
       "    .dataframe thead th {\n",
       "        text-align: right;\n",
       "    }\n",
       "</style>\n",
       "<table border=\"1\" class=\"dataframe\">\n",
       "  <thead>\n",
       "    <tr style=\"text-align: right;\">\n",
       "      <th></th>\n",
       "      <th>Unnamed: 0</th>\n",
       "      <th>Unnamed: 1</th>\n",
       "      <th>Unnamed: 2</th>\n",
       "      <th>Unnamed: 3</th>\n",
       "      <th>Счет</th>\n",
       "      <th>Unnamed: 5</th>\n",
       "      <th>Имя</th>\n",
       "      <th>Расчётный счёт</th>\n",
       "    </tr>\n",
       "  </thead>\n",
       "  <tbody>\n",
       "    <tr>\n",
       "      <th>0</th>\n",
       "      <td>19.08.2022</td>\n",
       "      <td>Списание с расчетного счета ОПБП-009148 от 19....</td>\n",
       "      <td>Корвет-Киренск\\nАТП 2020 ООО\\nАТП-69П от 01.10...</td>\n",
       "      <td>Корвет-Киренск\\n40702810500000049708, БАНК ГПБ...</td>\n",
       "      <td>60</td>\n",
       "      <td>49012.78</td>\n",
       "      <td>Корвет-Киренск</td>\n",
       "      <td>40702810500000049708</td>\n",
       "    </tr>\n",
       "    <tr>\n",
       "      <th>1</th>\n",
       "      <td>19.08.2022</td>\n",
       "      <td>Списание с расчетного счета ОПБП-009094 от 19....</td>\n",
       "      <td>Уткин Алексей Геннадьевич\\n&lt;...&gt;</td>\n",
       "      <td>Корвет-Верейская\\n40702810500000049708, БАНК Г...</td>\n",
       "      <td>70</td>\n",
       "      <td>92500.00</td>\n",
       "      <td>Корвет-Верейская</td>\n",
       "      <td>40702810500000049708</td>\n",
       "    </tr>\n",
       "  </tbody>\n",
       "</table>\n",
       "</div>"
      ],
      "text/plain": [
       "   Unnamed: 0                                         Unnamed: 1  \\\n",
       "0  19.08.2022  Списание с расчетного счета ОПБП-009148 от 19....   \n",
       "1  19.08.2022  Списание с расчетного счета ОПБП-009094 от 19....   \n",
       "\n",
       "                                          Unnamed: 2  \\\n",
       "0  Корвет-Киренск\\nАТП 2020 ООО\\nАТП-69П от 01.10...   \n",
       "1                   Уткин Алексей Геннадьевич\\n<...>   \n",
       "\n",
       "                                          Unnamed: 3  Счет  Unnamed: 5  \\\n",
       "0  Корвет-Киренск\\n40702810500000049708, БАНК ГПБ...    60    49012.78   \n",
       "1  Корвет-Верейская\\n40702810500000049708, БАНК Г...    70    92500.00   \n",
       "\n",
       "                Имя        Расчётный счёт  \n",
       "0    Корвет-Киренск  40702810500000049708  \n",
       "1  Корвет-Верейская  40702810500000049708  "
      ]
     },
     "execution_count": 9,
     "metadata": {},
     "output_type": "execute_result"
    }
   ],
   "source": [
    "ct_51.head(2)"
   ]
  },
  {
   "cell_type": "markdown",
   "id": "92520084",
   "metadata": {},
   "source": [
    "## удаляем строки со значениями организаций в столбце 'аналитика ДТ', но без 'фин' в столбце 'Документ'"
   ]
  },
  {
   "cell_type": "code",
   "execution_count": 10,
   "id": "08c549d2",
   "metadata": {},
   "outputs": [],
   "source": [
    "# Список организаций состоящих в Корвет\n",
    "values_to_remove = ['АТП 2020', 'СТРОЙ-ТРАК СЕРВИС', 'САХАСТРОЙДОРТРАНС']\n",
    "pattern = '|'.join(values_to_remove)\n",
    "# Список фин\n",
    "values_to_stay = ['Фин', 'фин'] \n",
    "pattern_stay = '|'.join(values_to_stay)"
   ]
  },
  {
   "cell_type": "code",
   "execution_count": 11,
   "id": "5768ccde",
   "metadata": {},
   "outputs": [],
   "source": [
    "# Создаем таблицу где нет значения фин\n",
    "without_fin = ct_51.loc[~ct_51[\"Unnamed: 1\"].str.contains(pattern_stay, case=False)]"
   ]
  },
  {
   "cell_type": "code",
   "execution_count": 12,
   "id": "b0ed0482",
   "metadata": {},
   "outputs": [],
   "source": [
    "# Создаем таблицу где есть значения фин\n",
    "fin_truth = ct_51.loc[ct_51[\"Unnamed: 1\"].str.contains(pattern_stay, case=False)]"
   ]
  },
  {
   "cell_type": "code",
   "execution_count": 13,
   "id": "3955d7b1",
   "metadata": {},
   "outputs": [],
   "source": [
    "# Удаляем строки со значениями из списка из таблицы с отсутствующим значением фин \n",
    "without_fin = without_fin.loc[~without_fin[\"Unnamed: 2\"].str.contains(pattern, case=False)]"
   ]
  },
  {
   "cell_type": "code",
   "execution_count": 14,
   "id": "281788ba",
   "metadata": {},
   "outputs": [],
   "source": [
    "# Соединяем таблицы \n",
    "ct_51 = pd.concat((without_fin, fin_truth), axis=0)"
   ]
  },
  {
   "cell_type": "code",
   "execution_count": 15,
   "id": "568c0f68",
   "metadata": {},
   "outputs": [],
   "source": [
    "# Удаляем столбцы \n",
    "ct_51 = ct_51.drop(['Unnamed: 0', 'Unnamed: 1', 'Unnamed: 2', 'Unnamed: 3'], axis=1)"
   ]
  },
  {
   "cell_type": "code",
   "execution_count": 16,
   "id": "8cae63ed",
   "metadata": {},
   "outputs": [
    {
     "data": {
      "text/html": [
       "<div>\n",
       "<style scoped>\n",
       "    .dataframe tbody tr th:only-of-type {\n",
       "        vertical-align: middle;\n",
       "    }\n",
       "\n",
       "    .dataframe tbody tr th {\n",
       "        vertical-align: top;\n",
       "    }\n",
       "\n",
       "    .dataframe thead th {\n",
       "        text-align: right;\n",
       "    }\n",
       "</style>\n",
       "<table border=\"1\" class=\"dataframe\">\n",
       "  <thead>\n",
       "    <tr style=\"text-align: right;\">\n",
       "      <th></th>\n",
       "      <th>Счет</th>\n",
       "      <th>Unnamed: 5</th>\n",
       "      <th>Имя</th>\n",
       "      <th>Расчётный счёт</th>\n",
       "    </tr>\n",
       "  </thead>\n",
       "  <tbody>\n",
       "    <tr>\n",
       "      <th>1</th>\n",
       "      <td>70</td>\n",
       "      <td>92500.0</td>\n",
       "      <td>Корвет-Верейская</td>\n",
       "      <td>40702810500000049708</td>\n",
       "    </tr>\n",
       "    <tr>\n",
       "      <th>3</th>\n",
       "      <td>70</td>\n",
       "      <td>192500.0</td>\n",
       "      <td>Корвет-Верейская</td>\n",
       "      <td>40702810500000049708</td>\n",
       "    </tr>\n",
       "    <tr>\n",
       "      <th>4</th>\n",
       "      <td>70</td>\n",
       "      <td>69520.0</td>\n",
       "      <td>Корвет-Верейская</td>\n",
       "      <td>40702810500000049708</td>\n",
       "    </tr>\n",
       "    <tr>\n",
       "      <th>7</th>\n",
       "      <td>70</td>\n",
       "      <td>192500.0</td>\n",
       "      <td>Корвет-Верейская</td>\n",
       "      <td>40702810500000049708</td>\n",
       "    </tr>\n",
       "    <tr>\n",
       "      <th>8</th>\n",
       "      <td>70</td>\n",
       "      <td>50794.0</td>\n",
       "      <td>Корвет-Верейская</td>\n",
       "      <td>40702810500000049708</td>\n",
       "    </tr>\n",
       "  </tbody>\n",
       "</table>\n",
       "</div>"
      ],
      "text/plain": [
       "   Счет  Unnamed: 5               Имя        Расчётный счёт\n",
       "1    70     92500.0  Корвет-Верейская  40702810500000049708\n",
       "3    70    192500.0  Корвет-Верейская  40702810500000049708\n",
       "4    70     69520.0  Корвет-Верейская  40702810500000049708\n",
       "7    70    192500.0  Корвет-Верейская  40702810500000049708\n",
       "8    70     50794.0  Корвет-Верейская  40702810500000049708"
      ]
     },
     "execution_count": 16,
     "metadata": {},
     "output_type": "execute_result"
    }
   ],
   "source": [
    "ct_51.head()"
   ]
  },
  {
   "cell_type": "code",
   "execution_count": 17,
   "id": "aa4ef766",
   "metadata": {},
   "outputs": [],
   "source": [
    "# Именуем колонки \n",
    "ct_51.columns = ['Счёт расход', 'Сумма расхода', 'ОП затрат', 'Расчетный счет'] "
   ]
  },
  {
   "cell_type": "code",
   "execution_count": 18,
   "id": "233ddbb9",
   "metadata": {},
   "outputs": [
    {
     "data": {
      "text/html": [
       "<div>\n",
       "<style scoped>\n",
       "    .dataframe tbody tr th:only-of-type {\n",
       "        vertical-align: middle;\n",
       "    }\n",
       "\n",
       "    .dataframe tbody tr th {\n",
       "        vertical-align: top;\n",
       "    }\n",
       "\n",
       "    .dataframe thead th {\n",
       "        text-align: right;\n",
       "    }\n",
       "</style>\n",
       "<table border=\"1\" class=\"dataframe\">\n",
       "  <thead>\n",
       "    <tr style=\"text-align: right;\">\n",
       "      <th></th>\n",
       "      <th>Счёт расход</th>\n",
       "      <th>Сумма расхода</th>\n",
       "      <th>ОП затрат</th>\n",
       "      <th>Расчетный счет</th>\n",
       "    </tr>\n",
       "  </thead>\n",
       "  <tbody>\n",
       "    <tr>\n",
       "      <th>1</th>\n",
       "      <td>70</td>\n",
       "      <td>92500.0</td>\n",
       "      <td>Корвет-Верейская</td>\n",
       "      <td>40702810500000049708</td>\n",
       "    </tr>\n",
       "    <tr>\n",
       "      <th>3</th>\n",
       "      <td>70</td>\n",
       "      <td>192500.0</td>\n",
       "      <td>Корвет-Верейская</td>\n",
       "      <td>40702810500000049708</td>\n",
       "    </tr>\n",
       "    <tr>\n",
       "      <th>4</th>\n",
       "      <td>70</td>\n",
       "      <td>69520.0</td>\n",
       "      <td>Корвет-Верейская</td>\n",
       "      <td>40702810500000049708</td>\n",
       "    </tr>\n",
       "    <tr>\n",
       "      <th>7</th>\n",
       "      <td>70</td>\n",
       "      <td>192500.0</td>\n",
       "      <td>Корвет-Верейская</td>\n",
       "      <td>40702810500000049708</td>\n",
       "    </tr>\n",
       "    <tr>\n",
       "      <th>8</th>\n",
       "      <td>70</td>\n",
       "      <td>50794.0</td>\n",
       "      <td>Корвет-Верейская</td>\n",
       "      <td>40702810500000049708</td>\n",
       "    </tr>\n",
       "  </tbody>\n",
       "</table>\n",
       "</div>"
      ],
      "text/plain": [
       "   Счёт расход  Сумма расхода         ОП затрат        Расчетный счет\n",
       "1           70        92500.0  Корвет-Верейская  40702810500000049708\n",
       "3           70       192500.0  Корвет-Верейская  40702810500000049708\n",
       "4           70        69520.0  Корвет-Верейская  40702810500000049708\n",
       "7           70       192500.0  Корвет-Верейская  40702810500000049708\n",
       "8           70        50794.0  Корвет-Верейская  40702810500000049708"
      ]
     },
     "execution_count": 18,
     "metadata": {},
     "output_type": "execute_result"
    }
   ],
   "source": [
    "ct_51.head()"
   ]
  },
  {
   "cell_type": "markdown",
   "id": "772d77c4",
   "metadata": {},
   "source": [
    " ## объединяем таблицы - Пункт 4"
   ]
  },
  {
   "cell_type": "code",
   "execution_count": 19,
   "id": "2375c578",
   "metadata": {},
   "outputs": [],
   "source": [
    "# соединяем \n",
    "ct_51 = ct_51.merge(cost_items, how='left', left_on=['Счёт расход'], right_on=['Счет']) "
   ]
  },
  {
   "cell_type": "code",
   "execution_count": 20,
   "id": "2347d448",
   "metadata": {},
   "outputs": [
    {
     "data": {
      "text/html": [
       "<div>\n",
       "<style scoped>\n",
       "    .dataframe tbody tr th:only-of-type {\n",
       "        vertical-align: middle;\n",
       "    }\n",
       "\n",
       "    .dataframe tbody tr th {\n",
       "        vertical-align: top;\n",
       "    }\n",
       "\n",
       "    .dataframe thead th {\n",
       "        text-align: right;\n",
       "    }\n",
       "</style>\n",
       "<table border=\"1\" class=\"dataframe\">\n",
       "  <thead>\n",
       "    <tr style=\"text-align: right;\">\n",
       "      <th></th>\n",
       "      <th>Счёт расход</th>\n",
       "      <th>Сумма расхода</th>\n",
       "      <th>ОП затрат</th>\n",
       "      <th>Расчетный счет</th>\n",
       "      <th>Счет</th>\n",
       "      <th>Статья затрат</th>\n",
       "    </tr>\n",
       "  </thead>\n",
       "  <tbody>\n",
       "    <tr>\n",
       "      <th>0</th>\n",
       "      <td>70</td>\n",
       "      <td>92500.0</td>\n",
       "      <td>Корвет-Верейская</td>\n",
       "      <td>40702810500000049708</td>\n",
       "      <td>70</td>\n",
       "      <td>Расчеты по заработной плате</td>\n",
       "    </tr>\n",
       "    <tr>\n",
       "      <th>1</th>\n",
       "      <td>70</td>\n",
       "      <td>192500.0</td>\n",
       "      <td>Корвет-Верейская</td>\n",
       "      <td>40702810500000049708</td>\n",
       "      <td>70</td>\n",
       "      <td>Расчеты по заработной плате</td>\n",
       "    </tr>\n",
       "    <tr>\n",
       "      <th>2</th>\n",
       "      <td>70</td>\n",
       "      <td>69520.0</td>\n",
       "      <td>Корвет-Верейская</td>\n",
       "      <td>40702810500000049708</td>\n",
       "      <td>70</td>\n",
       "      <td>Расчеты по заработной плате</td>\n",
       "    </tr>\n",
       "    <tr>\n",
       "      <th>3</th>\n",
       "      <td>70</td>\n",
       "      <td>192500.0</td>\n",
       "      <td>Корвет-Верейская</td>\n",
       "      <td>40702810500000049708</td>\n",
       "      <td>70</td>\n",
       "      <td>Расчеты по заработной плате</td>\n",
       "    </tr>\n",
       "    <tr>\n",
       "      <th>4</th>\n",
       "      <td>70</td>\n",
       "      <td>50794.0</td>\n",
       "      <td>Корвет-Верейская</td>\n",
       "      <td>40702810500000049708</td>\n",
       "      <td>70</td>\n",
       "      <td>Расчеты по заработной плате</td>\n",
       "    </tr>\n",
       "  </tbody>\n",
       "</table>\n",
       "</div>"
      ],
      "text/plain": [
       "   Счёт расход  Сумма расхода         ОП затрат        Расчетный счет  Счет  \\\n",
       "0           70        92500.0  Корвет-Верейская  40702810500000049708    70   \n",
       "1           70       192500.0  Корвет-Верейская  40702810500000049708    70   \n",
       "2           70        69520.0  Корвет-Верейская  40702810500000049708    70   \n",
       "3           70       192500.0  Корвет-Верейская  40702810500000049708    70   \n",
       "4           70        50794.0  Корвет-Верейская  40702810500000049708    70   \n",
       "\n",
       "                 Статья затрат  \n",
       "0  Расчеты по заработной плате  \n",
       "1  Расчеты по заработной плате  \n",
       "2  Расчеты по заработной плате  \n",
       "3  Расчеты по заработной плате  \n",
       "4  Расчеты по заработной плате  "
      ]
     },
     "execution_count": 20,
     "metadata": {},
     "output_type": "execute_result"
    }
   ],
   "source": [
    "ct_51.head()"
   ]
  },
  {
   "cell_type": "code",
   "execution_count": 21,
   "id": "7f383ea0",
   "metadata": {},
   "outputs": [],
   "source": [
    "# Заменяем значение в столбце на более корректные - Без ЗУП и пробелов \n",
    "ct_51 = ct_51.replace({'ОП затрат' : {'Основное подразделение ЗУП': 'Основное подразделение', \n",
    "                              'Основное подразделение  ': 'Основное подразделение'}})"
   ]
  },
  {
   "cell_type": "code",
   "execution_count": 22,
   "id": "a1441146",
   "metadata": {},
   "outputs": [
    {
     "data": {
      "text/html": [
       "<div>\n",
       "<style scoped>\n",
       "    .dataframe tbody tr th:only-of-type {\n",
       "        vertical-align: middle;\n",
       "    }\n",
       "\n",
       "    .dataframe tbody tr th {\n",
       "        vertical-align: top;\n",
       "    }\n",
       "\n",
       "    .dataframe thead th {\n",
       "        text-align: right;\n",
       "    }\n",
       "</style>\n",
       "<table border=\"1\" class=\"dataframe\">\n",
       "  <thead>\n",
       "    <tr style=\"text-align: right;\">\n",
       "      <th></th>\n",
       "      <th>Счёт расход</th>\n",
       "      <th>Сумма расхода</th>\n",
       "      <th>ОП затрат</th>\n",
       "      <th>Расчетный счет</th>\n",
       "      <th>Счет</th>\n",
       "      <th>Статья затрат</th>\n",
       "    </tr>\n",
       "  </thead>\n",
       "  <tbody>\n",
       "    <tr>\n",
       "      <th>0</th>\n",
       "      <td>70</td>\n",
       "      <td>92500.0</td>\n",
       "      <td>Корвет-Верейская</td>\n",
       "      <td>40702810500000049708</td>\n",
       "      <td>70</td>\n",
       "      <td>Расчеты по заработной плате</td>\n",
       "    </tr>\n",
       "    <tr>\n",
       "      <th>1</th>\n",
       "      <td>70</td>\n",
       "      <td>192500.0</td>\n",
       "      <td>Корвет-Верейская</td>\n",
       "      <td>40702810500000049708</td>\n",
       "      <td>70</td>\n",
       "      <td>Расчеты по заработной плате</td>\n",
       "    </tr>\n",
       "  </tbody>\n",
       "</table>\n",
       "</div>"
      ],
      "text/plain": [
       "   Счёт расход  Сумма расхода         ОП затрат        Расчетный счет  Счет  \\\n",
       "0           70        92500.0  Корвет-Верейская  40702810500000049708    70   \n",
       "1           70       192500.0  Корвет-Верейская  40702810500000049708    70   \n",
       "\n",
       "                 Статья затрат  \n",
       "0  Расчеты по заработной плате  \n",
       "1  Расчеты по заработной плате  "
      ]
     },
     "execution_count": 22,
     "metadata": {},
     "output_type": "execute_result"
    }
   ],
   "source": [
    "ct_51.head(2)"
   ]
  },
  {
   "cell_type": "code",
   "execution_count": 23,
   "id": "2c39c1a5",
   "metadata": {},
   "outputs": [],
   "source": [
    "# Присоединяем колонку -код проекта \n",
    "ct_51 = ct_51.merge(ss_project_invoice, \n",
    "                    how='inner', left_on=['ОП затрат'], \n",
    "                    right_on=['Обособленное подразделение']) "
   ]
  },
  {
   "cell_type": "code",
   "execution_count": 24,
   "id": "1ce623f0",
   "metadata": {},
   "outputs": [
    {
     "data": {
      "text/html": [
       "<div>\n",
       "<style scoped>\n",
       "    .dataframe tbody tr th:only-of-type {\n",
       "        vertical-align: middle;\n",
       "    }\n",
       "\n",
       "    .dataframe tbody tr th {\n",
       "        vertical-align: top;\n",
       "    }\n",
       "\n",
       "    .dataframe thead th {\n",
       "        text-align: right;\n",
       "    }\n",
       "</style>\n",
       "<table border=\"1\" class=\"dataframe\">\n",
       "  <thead>\n",
       "    <tr style=\"text-align: right;\">\n",
       "      <th></th>\n",
       "      <th>Счёт расход</th>\n",
       "      <th>Сумма расхода</th>\n",
       "      <th>ОП затрат</th>\n",
       "      <th>Расчетный счет</th>\n",
       "      <th>Счет</th>\n",
       "      <th>Статья затрат</th>\n",
       "      <th>Обособленное подразделение</th>\n",
       "      <th>Проект</th>\n",
       "      <th>Код проекта</th>\n",
       "      <th>Расчетные счета</th>\n",
       "    </tr>\n",
       "  </thead>\n",
       "  <tbody>\n",
       "    <tr>\n",
       "      <th>0</th>\n",
       "      <td>70</td>\n",
       "      <td>92500.0</td>\n",
       "      <td>Корвет-Верейская</td>\n",
       "      <td>40702810500000049708</td>\n",
       "      <td>70</td>\n",
       "      <td>Расчеты по заработной плате</td>\n",
       "      <td>Корвет-Верейская</td>\n",
       "      <td>Корвет-Верейская</td>\n",
       "      <td>4000КВ</td>\n",
       "      <td>NaN</td>\n",
       "    </tr>\n",
       "    <tr>\n",
       "      <th>1</th>\n",
       "      <td>70</td>\n",
       "      <td>192500.0</td>\n",
       "      <td>Корвет-Верейская</td>\n",
       "      <td>40702810500000049708</td>\n",
       "      <td>70</td>\n",
       "      <td>Расчеты по заработной плате</td>\n",
       "      <td>Корвет-Верейская</td>\n",
       "      <td>Корвет-Верейская</td>\n",
       "      <td>4000КВ</td>\n",
       "      <td>NaN</td>\n",
       "    </tr>\n",
       "  </tbody>\n",
       "</table>\n",
       "</div>"
      ],
      "text/plain": [
       "   Счёт расход  Сумма расхода         ОП затрат        Расчетный счет  Счет  \\\n",
       "0           70        92500.0  Корвет-Верейская  40702810500000049708    70   \n",
       "1           70       192500.0  Корвет-Верейская  40702810500000049708    70   \n",
       "\n",
       "                 Статья затрат Обособленное подразделение            Проект  \\\n",
       "0  Расчеты по заработной плате           Корвет-Верейская  Корвет-Верейская   \n",
       "1  Расчеты по заработной плате           Корвет-Верейская  Корвет-Верейская   \n",
       "\n",
       "  Код проекта Расчетные счета  \n",
       "0      4000КВ             NaN  \n",
       "1      4000КВ             NaN  "
      ]
     },
     "execution_count": 24,
     "metadata": {},
     "output_type": "execute_result"
    }
   ],
   "source": [
    "ct_51.head(2)"
   ]
  },
  {
   "cell_type": "code",
   "execution_count": 25,
   "id": "6b943d1b",
   "metadata": {},
   "outputs": [],
   "source": [
    "# новые столбцы \n",
    "ct_51['Проект расхода'] = ct_51['ОП затрат']\n",
    "ct_51['Код проекта расхода'] = ct_51['Код проекта']\n",
    "# Переименование столбцов \n",
    "ct_51.rename(columns={'ОП затрат': 'ОП', 'Расчетные счета': 'Расчётный счёт', 'Статья затрат': 'Статья расхода'}, \n",
    "             inplace=True)"
   ]
  },
  {
   "cell_type": "code",
   "execution_count": 26,
   "id": "5c320fe1",
   "metadata": {},
   "outputs": [
    {
     "data": {
      "text/html": [
       "<div>\n",
       "<style scoped>\n",
       "    .dataframe tbody tr th:only-of-type {\n",
       "        vertical-align: middle;\n",
       "    }\n",
       "\n",
       "    .dataframe tbody tr th {\n",
       "        vertical-align: top;\n",
       "    }\n",
       "\n",
       "    .dataframe thead th {\n",
       "        text-align: right;\n",
       "    }\n",
       "</style>\n",
       "<table border=\"1\" class=\"dataframe\">\n",
       "  <thead>\n",
       "    <tr style=\"text-align: right;\">\n",
       "      <th></th>\n",
       "      <th>Счёт расход</th>\n",
       "      <th>Сумма расхода</th>\n",
       "      <th>ОП</th>\n",
       "      <th>Расчетный счет</th>\n",
       "      <th>Счет</th>\n",
       "      <th>Статья расхода</th>\n",
       "      <th>Обособленное подразделение</th>\n",
       "      <th>Проект</th>\n",
       "      <th>Код проекта</th>\n",
       "      <th>Расчётный счёт</th>\n",
       "      <th>Проект расхода</th>\n",
       "      <th>Код проекта расхода</th>\n",
       "    </tr>\n",
       "  </thead>\n",
       "  <tbody>\n",
       "    <tr>\n",
       "      <th>0</th>\n",
       "      <td>70</td>\n",
       "      <td>92500.0</td>\n",
       "      <td>Корвет-Верейская</td>\n",
       "      <td>40702810500000049708</td>\n",
       "      <td>70</td>\n",
       "      <td>Расчеты по заработной плате</td>\n",
       "      <td>Корвет-Верейская</td>\n",
       "      <td>Корвет-Верейская</td>\n",
       "      <td>4000КВ</td>\n",
       "      <td>NaN</td>\n",
       "      <td>Корвет-Верейская</td>\n",
       "      <td>4000КВ</td>\n",
       "    </tr>\n",
       "    <tr>\n",
       "      <th>1</th>\n",
       "      <td>70</td>\n",
       "      <td>192500.0</td>\n",
       "      <td>Корвет-Верейская</td>\n",
       "      <td>40702810500000049708</td>\n",
       "      <td>70</td>\n",
       "      <td>Расчеты по заработной плате</td>\n",
       "      <td>Корвет-Верейская</td>\n",
       "      <td>Корвет-Верейская</td>\n",
       "      <td>4000КВ</td>\n",
       "      <td>NaN</td>\n",
       "      <td>Корвет-Верейская</td>\n",
       "      <td>4000КВ</td>\n",
       "    </tr>\n",
       "  </tbody>\n",
       "</table>\n",
       "</div>"
      ],
      "text/plain": [
       "   Счёт расход  Сумма расхода                ОП        Расчетный счет  Счет  \\\n",
       "0           70        92500.0  Корвет-Верейская  40702810500000049708    70   \n",
       "1           70       192500.0  Корвет-Верейская  40702810500000049708    70   \n",
       "\n",
       "                Статья расхода Обособленное подразделение            Проект  \\\n",
       "0  Расчеты по заработной плате           Корвет-Верейская  Корвет-Верейская   \n",
       "1  Расчеты по заработной плате           Корвет-Верейская  Корвет-Верейская   \n",
       "\n",
       "  Код проекта Расчётный счёт    Проект расхода Код проекта расхода  \n",
       "0      4000КВ            NaN  Корвет-Верейская              4000КВ  \n",
       "1      4000КВ            NaN  Корвет-Верейская              4000КВ  "
      ]
     },
     "execution_count": 26,
     "metadata": {},
     "output_type": "execute_result"
    }
   ],
   "source": [
    "ct_51.head(2)"
   ]
  },
  {
   "cell_type": "code",
   "execution_count": 27,
   "id": "75cf4dd0",
   "metadata": {},
   "outputs": [],
   "source": [
    "# Меняем порядок столбцов \n",
    "ct_51 = ct_51.reindex(columns=['ОП', 'Проект', 'Код проекта', 'Расчетный счет', 'Счёт расход', 'Статья расхода', 'Проект расхода', \n",
    "                               'Код проекта расхода', 'Сумма расхода'])"
   ]
  },
  {
   "cell_type": "code",
   "execution_count": 28,
   "id": "1bdc99c2",
   "metadata": {},
   "outputs": [
    {
     "data": {
      "text/html": [
       "<div>\n",
       "<style scoped>\n",
       "    .dataframe tbody tr th:only-of-type {\n",
       "        vertical-align: middle;\n",
       "    }\n",
       "\n",
       "    .dataframe tbody tr th {\n",
       "        vertical-align: top;\n",
       "    }\n",
       "\n",
       "    .dataframe thead th {\n",
       "        text-align: right;\n",
       "    }\n",
       "</style>\n",
       "<table border=\"1\" class=\"dataframe\">\n",
       "  <thead>\n",
       "    <tr style=\"text-align: right;\">\n",
       "      <th></th>\n",
       "      <th>ОП</th>\n",
       "      <th>Проект</th>\n",
       "      <th>Код проекта</th>\n",
       "      <th>Расчетный счет</th>\n",
       "      <th>Счёт расход</th>\n",
       "      <th>Статья расхода</th>\n",
       "      <th>Проект расхода</th>\n",
       "      <th>Код проекта расхода</th>\n",
       "      <th>Сумма расхода</th>\n",
       "    </tr>\n",
       "  </thead>\n",
       "  <tbody>\n",
       "    <tr>\n",
       "      <th>0</th>\n",
       "      <td>Корвет-Верейская</td>\n",
       "      <td>Корвет-Верейская</td>\n",
       "      <td>4000КВ</td>\n",
       "      <td>40702810500000049708</td>\n",
       "      <td>70</td>\n",
       "      <td>Расчеты по заработной плате</td>\n",
       "      <td>Корвет-Верейская</td>\n",
       "      <td>4000КВ</td>\n",
       "      <td>92500.0</td>\n",
       "    </tr>\n",
       "    <tr>\n",
       "      <th>1</th>\n",
       "      <td>Корвет-Верейская</td>\n",
       "      <td>Корвет-Верейская</td>\n",
       "      <td>4000КВ</td>\n",
       "      <td>40702810500000049708</td>\n",
       "      <td>70</td>\n",
       "      <td>Расчеты по заработной плате</td>\n",
       "      <td>Корвет-Верейская</td>\n",
       "      <td>4000КВ</td>\n",
       "      <td>192500.0</td>\n",
       "    </tr>\n",
       "  </tbody>\n",
       "</table>\n",
       "</div>"
      ],
      "text/plain": [
       "                 ОП            Проект Код проекта        Расчетный счет  \\\n",
       "0  Корвет-Верейская  Корвет-Верейская      4000КВ  40702810500000049708   \n",
       "1  Корвет-Верейская  Корвет-Верейская      4000КВ  40702810500000049708   \n",
       "\n",
       "   Счёт расход               Статья расхода    Проект расхода  \\\n",
       "0           70  Расчеты по заработной плате  Корвет-Верейская   \n",
       "1           70  Расчеты по заработной плате  Корвет-Верейская   \n",
       "\n",
       "  Код проекта расхода  Сумма расхода  \n",
       "0              4000КВ        92500.0  \n",
       "1              4000КВ       192500.0  "
      ]
     },
     "execution_count": 28,
     "metadata": {},
     "output_type": "execute_result"
    }
   ],
   "source": [
    "ct_51.head(2)"
   ]
  },
  {
   "cell_type": "markdown",
   "id": "01921bc1",
   "metadata": {},
   "source": [
    "- В алгоритме указано-\n",
    "#### Группируем по столбцам:\n",
    "#### ['ОП', 'Проект', 'Код проекта', 'Расчетный счет', 'Код проекта расхода', 'Проект расхода',\n",
    "#### 'Счет расход', 'Статья расхода']"
   ]
  },
  {
   "cell_type": "markdown",
   "id": "9d902648",
   "metadata": {},
   "source": [
    "# 'Счет расход' - не определила что имеется ввиду. Не указала данное значение в группировке"
   ]
  },
  {
   "cell_type": "code",
   "execution_count": 29,
   "id": "c19cef02",
   "metadata": {},
   "outputs": [],
   "source": [
    "ct_51 = ct_51.groupby(['ОП', 'Проект', 'Код проекта', 'Расчетный счет', 'Код проекта расхода', 'Проект расхода',\n",
    "'Счёт расход', 'Статья расхода'])['Сумма расхода'].sum().reset_index()\n",
    " "
   ]
  },
  {
   "cell_type": "code",
   "execution_count": 30,
   "id": "976f8133",
   "metadata": {
    "scrolled": true
   },
   "outputs": [
    {
     "name": "stderr",
     "output_type": "stream",
     "text": [
      "/var/folders/1m/r8sjkd3n21s0fjc__2nczm000000gn/T/ipykernel_18702/2685618753.py:3: FutureWarning: The frame.append method is deprecated and will be removed from pandas in a future version. Use pandas.concat instead.\n",
      "  ct_51 = ct_51.append(new_row, ignore_index=True)\n"
     ]
    }
   ],
   "source": [
    "new_row = {'ОП': np.nan, 'Проект': np.nan, 'Код проекта': np.nan, 'Расчетный счет': np.nan, 'Код проекта расхода': np.nan,\n",
    "           'Проект расхода': np.nan, 'Статья расхода': 'Сумма - ', 'Сумма расхода': ct_51['Сумма расхода'].sum()}\n",
    "ct_51 = ct_51.append(new_row, ignore_index=True)\n"
   ]
  },
  {
   "cell_type": "code",
   "execution_count": 31,
   "id": "381b4ae5",
   "metadata": {},
   "outputs": [
    {
     "data": {
      "text/html": [
       "<div>\n",
       "<style scoped>\n",
       "    .dataframe tbody tr th:only-of-type {\n",
       "        vertical-align: middle;\n",
       "    }\n",
       "\n",
       "    .dataframe tbody tr th {\n",
       "        vertical-align: top;\n",
       "    }\n",
       "\n",
       "    .dataframe thead th {\n",
       "        text-align: right;\n",
       "    }\n",
       "</style>\n",
       "<table border=\"1\" class=\"dataframe\">\n",
       "  <thead>\n",
       "    <tr style=\"text-align: right;\">\n",
       "      <th></th>\n",
       "      <th>ОП</th>\n",
       "      <th>Проект</th>\n",
       "      <th>Код проекта</th>\n",
       "      <th>Расчетный счет</th>\n",
       "      <th>Код проекта расхода</th>\n",
       "      <th>Проект расхода</th>\n",
       "      <th>Счёт расход</th>\n",
       "      <th>Статья расхода</th>\n",
       "      <th>Сумма расхода</th>\n",
       "    </tr>\n",
       "  </thead>\n",
       "  <tbody>\n",
       "    <tr>\n",
       "      <th>0</th>\n",
       "      <td>Газопровод-отвод и ГРС \"Селятино\" со строитель...</td>\n",
       "      <td>СМР по реконструкции газопровода-отвода и ГРС ...</td>\n",
       "      <td>2008</td>\n",
       "      <td>40702810500000049708</td>\n",
       "      <td>2008</td>\n",
       "      <td>Газопровод-отвод и ГРС \"Селятино\" со строитель...</td>\n",
       "      <td>60.0</td>\n",
       "      <td>Расчеты с поставщиками</td>\n",
       "      <td>24076389.07</td>\n",
       "    </tr>\n",
       "    <tr>\n",
       "      <th>1</th>\n",
       "      <td>Газопровод-отвод и ГРС \"Селятино\" со строитель...</td>\n",
       "      <td>СМР по реконструкции газопровода-отвода и ГРС ...</td>\n",
       "      <td>2008</td>\n",
       "      <td>40702810500000049708</td>\n",
       "      <td>2008</td>\n",
       "      <td>Газопровод-отвод и ГРС \"Селятино\" со строитель...</td>\n",
       "      <td>62.0</td>\n",
       "      <td>Расчеты с покупателями</td>\n",
       "      <td>1503762.72</td>\n",
       "    </tr>\n",
       "    <tr>\n",
       "      <th>2</th>\n",
       "      <td>Газопровод-отвод и ГРС \"Селятино\" со строитель...</td>\n",
       "      <td>СМР по реконструкции газопровода-отвода и ГРС ...</td>\n",
       "      <td>2008</td>\n",
       "      <td>40702810500000049708</td>\n",
       "      <td>2008</td>\n",
       "      <td>Газопровод-отвод и ГРС \"Селятино\" со строитель...</td>\n",
       "      <td>68.0</td>\n",
       "      <td>Расчеты по налогам</td>\n",
       "      <td>103295.00</td>\n",
       "    </tr>\n",
       "  </tbody>\n",
       "</table>\n",
       "</div>"
      ],
      "text/plain": [
       "                                                  ОП  \\\n",
       "0  Газопровод-отвод и ГРС \"Селятино\" со строитель...   \n",
       "1  Газопровод-отвод и ГРС \"Селятино\" со строитель...   \n",
       "2  Газопровод-отвод и ГРС \"Селятино\" со строитель...   \n",
       "\n",
       "                                              Проект Код проекта  \\\n",
       "0  СМР по реконструкции газопровода-отвода и ГРС ...        2008   \n",
       "1  СМР по реконструкции газопровода-отвода и ГРС ...        2008   \n",
       "2  СМР по реконструкции газопровода-отвода и ГРС ...        2008   \n",
       "\n",
       "         Расчетный счет Код проекта расхода  \\\n",
       "0  40702810500000049708                2008   \n",
       "1  40702810500000049708                2008   \n",
       "2  40702810500000049708                2008   \n",
       "\n",
       "                                      Проект расхода  Счёт расход  \\\n",
       "0  Газопровод-отвод и ГРС \"Селятино\" со строитель...         60.0   \n",
       "1  Газопровод-отвод и ГРС \"Селятино\" со строитель...         62.0   \n",
       "2  Газопровод-отвод и ГРС \"Селятино\" со строитель...         68.0   \n",
       "\n",
       "           Статья расхода  Сумма расхода  \n",
       "0  Расчеты с поставщиками    24076389.07  \n",
       "1  Расчеты с покупателями     1503762.72  \n",
       "2      Расчеты по налогам      103295.00  "
      ]
     },
     "execution_count": 31,
     "metadata": {},
     "output_type": "execute_result"
    }
   ],
   "source": [
    "ct_51[:3]"
   ]
  },
  {
   "cell_type": "code",
   "execution_count": 33,
   "id": "f43f9f08",
   "metadata": {},
   "outputs": [
    {
     "data": {
      "text/html": [
       "<div>\n",
       "<style scoped>\n",
       "    .dataframe tbody tr th:only-of-type {\n",
       "        vertical-align: middle;\n",
       "    }\n",
       "\n",
       "    .dataframe tbody tr th {\n",
       "        vertical-align: top;\n",
       "    }\n",
       "\n",
       "    .dataframe thead th {\n",
       "        text-align: right;\n",
       "    }\n",
       "</style>\n",
       "<table border=\"1\" class=\"dataframe\">\n",
       "  <thead>\n",
       "    <tr style=\"text-align: right;\">\n",
       "      <th></th>\n",
       "      <th>ОП</th>\n",
       "      <th>Проект</th>\n",
       "      <th>Код проекта</th>\n",
       "      <th>Расчетный счет</th>\n",
       "      <th>Код проекта расхода</th>\n",
       "      <th>Проект расхода</th>\n",
       "      <th>Счёт расход</th>\n",
       "      <th>Статья расхода</th>\n",
       "      <th>Сумма расхода</th>\n",
       "    </tr>\n",
       "  </thead>\n",
       "  <tbody>\n",
       "    <tr>\n",
       "      <th>47</th>\n",
       "      <td>Реконструкция ГРС \"Северо-Задонская\"</td>\n",
       "      <td>СМР по реконструкции ГРС Северо-Задонская</td>\n",
       "      <td>2009</td>\n",
       "      <td>40702810500000049708</td>\n",
       "      <td>2009</td>\n",
       "      <td>Реконструкция ГРС \"Северо-Задонская\"</td>\n",
       "      <td>60.0</td>\n",
       "      <td>Расчеты с поставщиками</td>\n",
       "      <td>1.053059e+07</td>\n",
       "    </tr>\n",
       "    <tr>\n",
       "      <th>48</th>\n",
       "      <td>Реконструкция ГРС \"Северо-Задонская\"</td>\n",
       "      <td>СМР по реконструкции ГРС Северо-Задонская</td>\n",
       "      <td>2009</td>\n",
       "      <td>40702810500000049708</td>\n",
       "      <td>2009</td>\n",
       "      <td>Реконструкция ГРС \"Северо-Задонская\"</td>\n",
       "      <td>76.0</td>\n",
       "      <td>Расчеты с прочими дебиторами/кредиторами</td>\n",
       "      <td>4.130500e+05</td>\n",
       "    </tr>\n",
       "    <tr>\n",
       "      <th>49</th>\n",
       "      <td>NaN</td>\n",
       "      <td>NaN</td>\n",
       "      <td>NaN</td>\n",
       "      <td>NaN</td>\n",
       "      <td>NaN</td>\n",
       "      <td>NaN</td>\n",
       "      <td>NaN</td>\n",
       "      <td>Сумма -</td>\n",
       "      <td>2.499902e+08</td>\n",
       "    </tr>\n",
       "  </tbody>\n",
       "</table>\n",
       "</div>"
      ],
      "text/plain": [
       "                                      ОП  \\\n",
       "47  Реконструкция ГРС \"Северо-Задонская\"   \n",
       "48  Реконструкция ГРС \"Северо-Задонская\"   \n",
       "49                                   NaN   \n",
       "\n",
       "                                       Проект Код проекта  \\\n",
       "47  СМР по реконструкции ГРС Северо-Задонская        2009   \n",
       "48  СМР по реконструкции ГРС Северо-Задонская        2009   \n",
       "49                                        NaN         NaN   \n",
       "\n",
       "          Расчетный счет Код проекта расхода  \\\n",
       "47  40702810500000049708                2009   \n",
       "48  40702810500000049708                2009   \n",
       "49                   NaN                 NaN   \n",
       "\n",
       "                          Проект расхода  Счёт расход  \\\n",
       "47  Реконструкция ГРС \"Северо-Задонская\"         60.0   \n",
       "48  Реконструкция ГРС \"Северо-Задонская\"         76.0   \n",
       "49                                   NaN          NaN   \n",
       "\n",
       "                              Статья расхода  Сумма расхода  \n",
       "47                    Расчеты с поставщиками   1.053059e+07  \n",
       "48  Расчеты с прочими дебиторами/кредиторами   4.130500e+05  \n",
       "49                                  Сумма -    2.499902e+08  "
      ]
     },
     "execution_count": 33,
     "metadata": {},
     "output_type": "execute_result"
    }
   ],
   "source": [
    "ct_51[-3:]"
   ]
  },
  {
   "cell_type": "code",
   "execution_count": 32,
   "id": "5760c49b",
   "metadata": {},
   "outputs": [],
   "source": [
    "ct_51.to_excel('Отчет.xlsx', sheet_name='Отчет', index=False)"
   ]
  }
 ],
 "metadata": {
  "kernelspec": {
   "display_name": "Python 3 (ipykernel)",
   "language": "python",
   "name": "python3"
  },
  "language_info": {
   "codemirror_mode": {
    "name": "ipython",
    "version": 3
   },
   "file_extension": ".py",
   "mimetype": "text/x-python",
   "name": "python",
   "nbconvert_exporter": "python",
   "pygments_lexer": "ipython3",
   "version": "3.10.5"
  }
 },
 "nbformat": 4,
 "nbformat_minor": 5
}
