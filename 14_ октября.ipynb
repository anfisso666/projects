{
 "cells": [
  {
   "cell_type": "code",
   "execution_count": 1,
   "id": "41a1907c",
   "metadata": {},
   "outputs": [],
   "source": [
    "from pathlib import Path\n",
    "import pandas as pd"
   ]
  },
  {
   "cell_type": "markdown",
   "id": "0f53f354",
   "metadata": {},
   "source": [
    "## столбцы \n",
    "- product - Наименование товара\n",
    "- group_of_products - Номенклатурная группа\n",
    "- city - Город\n",
    "- receipt - Номер чека ККМ\n",
    "- date - Дата продажи\n",
    "- store - АЗС\n",
    "- sold_quantity - Количество проданных товаров\n",
    "- cost_VAT - Закупочная сумма (с НДС)\n",
    "- Розничная сумма\n",
    "- Сумма наценки"
   ]
  },
  {
   "cell_type": "code",
   "execution_count": 2,
   "id": "5191b5d3",
   "metadata": {
    "scrolled": true
   },
   "outputs": [
    {
     "name": "stdout",
     "output_type": "stream",
     "text": [
      "Путь к файлам(относительный): folder\n"
     ]
    }
   ],
   "source": [
    "data_folder = input(\"Путь к файлам(относительный): \")"
   ]
  },
  {
   "cell_type": "markdown",
   "id": "68e42a15",
   "metadata": {},
   "source": [
    "### !! Очищаем папку от скрытых файлов, иначе будет ошибка "
   ]
  },
  {
   "cell_type": "code",
   "execution_count": 3,
   "id": "fc535939",
   "metadata": {},
   "outputs": [],
   "source": [
    "# путь\n",
    "p = Path(data_folder)\n",
    "\n",
    "# находим xlsx\n",
    "files = p.glob('*.xlsx')\n",
    "\n",
    "# df\n",
    "df_main = pd.concat([pd.read_excel(file, header=None, skiprows=2, skipfooter=1) for file in files])"
   ]
  },
  {
   "cell_type": "code",
   "execution_count": 69,
   "id": "a132e2f2",
   "metadata": {},
   "outputs": [],
   "source": [
    "# Делаем копию объединения файлов - для быстрого возврата к исходнику \n",
    "df = df_main.copy()"
   ]
  },
  {
   "cell_type": "code",
   "execution_count": 70,
   "id": "2e122c64",
   "metadata": {},
   "outputs": [
    {
     "data": {
      "text/plain": [
       "(1640070, 10)"
      ]
     },
     "execution_count": 70,
     "metadata": {},
     "output_type": "execute_result"
    }
   ],
   "source": [
    "df.shape"
   ]
  },
  {
   "cell_type": "code",
   "execution_count": 71,
   "id": "45c2c880",
   "metadata": {},
   "outputs": [],
   "source": [
    "# Удаляем строки с nan столбцах -выручка, себестоимость \n",
    "df = df.dropna(subset=[7, 8], thresh=1)"
   ]
  },
  {
   "cell_type": "code",
   "execution_count": 72,
   "id": "e17a23e7",
   "metadata": {},
   "outputs": [
    {
     "data": {
      "text/plain": [
       "(1640037, 10)"
      ]
     },
     "execution_count": 72,
     "metadata": {},
     "output_type": "execute_result"
    }
   ],
   "source": [
    "df.shape"
   ]
  },
  {
   "cell_type": "markdown",
   "id": "dbc23b1c",
   "metadata": {},
   "source": [
    "- после удаления строк содержащих nan в столбцах -выручка и себестоимость, размер таблицы не изменился "
   ]
  },
  {
   "cell_type": "code",
   "execution_count": 73,
   "id": "6910864f",
   "metadata": {},
   "outputs": [
    {
     "data": {
      "text/html": [
       "<div>\n",
       "<style scoped>\n",
       "    .dataframe tbody tr th:only-of-type {\n",
       "        vertical-align: middle;\n",
       "    }\n",
       "\n",
       "    .dataframe tbody tr th {\n",
       "        vertical-align: top;\n",
       "    }\n",
       "\n",
       "    .dataframe thead th {\n",
       "        text-align: right;\n",
       "    }\n",
       "</style>\n",
       "<table border=\"1\" class=\"dataframe\">\n",
       "  <thead>\n",
       "    <tr style=\"text-align: right;\">\n",
       "      <th></th>\n",
       "      <th>0</th>\n",
       "      <th>1</th>\n",
       "      <th>2</th>\n",
       "      <th>3</th>\n",
       "      <th>4</th>\n",
       "      <th>5</th>\n",
       "      <th>6</th>\n",
       "      <th>7</th>\n",
       "      <th>8</th>\n",
       "      <th>9</th>\n",
       "    </tr>\n",
       "  </thead>\n",
       "  <tbody>\n",
       "    <tr>\n",
       "      <th>0</th>\n",
       "      <td>Чек ККМ ГС00-000001 от 01.01.2021 0:26:25</td>\n",
       "      <td>NaN</td>\n",
       "      <td>NaN</td>\n",
       "      <td>207546.0</td>\n",
       "      <td>01.01.2021 0:26:25</td>\n",
       "      <td>АЗС №2 г.Керчь</td>\n",
       "      <td>2</td>\n",
       "      <td>41.76</td>\n",
       "      <td>100.0</td>\n",
       "      <td>58.24</td>\n",
       "    </tr>\n",
       "    <tr>\n",
       "      <th>1</th>\n",
       "      <td>Вода мин. Крымская слабогаз. 1,0л ПЭТ</td>\n",
       "      <td>БЕЛАЯ ВОДА</td>\n",
       "      <td>NaN</td>\n",
       "      <td>NaN</td>\n",
       "      <td>NaN</td>\n",
       "      <td>NaN</td>\n",
       "      <td>1</td>\n",
       "      <td>26.92</td>\n",
       "      <td>40.0</td>\n",
       "      <td>13.08</td>\n",
       "    </tr>\n",
       "    <tr>\n",
       "      <th>2</th>\n",
       "      <td>Вода мин. Крымская слабогаз. 1,0л ПЭТ</td>\n",
       "      <td>БЕЛАЯ ВОДА</td>\n",
       "      <td>Керчь г</td>\n",
       "      <td>NaN</td>\n",
       "      <td>NaN</td>\n",
       "      <td>NaN</td>\n",
       "      <td>1</td>\n",
       "      <td>26.92</td>\n",
       "      <td>40.0</td>\n",
       "      <td>13.08</td>\n",
       "    </tr>\n",
       "    <tr>\n",
       "      <th>3</th>\n",
       "      <td>Кофе АМЕРИКАНО 200 мл АЗС 2 АЗС 4</td>\n",
       "      <td>КОФЕЙНЫЕ НАПИТКИ</td>\n",
       "      <td>NaN</td>\n",
       "      <td>NaN</td>\n",
       "      <td>NaN</td>\n",
       "      <td>NaN</td>\n",
       "      <td>1</td>\n",
       "      <td>14.84</td>\n",
       "      <td>60.0</td>\n",
       "      <td>45.16</td>\n",
       "    </tr>\n",
       "  </tbody>\n",
       "</table>\n",
       "</div>"
      ],
      "text/plain": [
       "                                           0                 1        2  \\\n",
       "0  Чек ККМ ГС00-000001 от 01.01.2021 0:26:25               NaN      NaN   \n",
       "1      Вода мин. Крымская слабогаз. 1,0л ПЭТ        БЕЛАЯ ВОДА      NaN   \n",
       "2      Вода мин. Крымская слабогаз. 1,0л ПЭТ        БЕЛАЯ ВОДА  Керчь г   \n",
       "3          Кофе АМЕРИКАНО 200 мл АЗС 2 АЗС 4  КОФЕЙНЫЕ НАПИТКИ      NaN   \n",
       "\n",
       "          3                   4               5  6      7      8      9  \n",
       "0  207546.0  01.01.2021 0:26:25  АЗС №2 г.Керчь  2  41.76  100.0  58.24  \n",
       "1       NaN                 NaN             NaN  1  26.92   40.0  13.08  \n",
       "2       NaN                 NaN             NaN  1  26.92   40.0  13.08  \n",
       "3       NaN                 NaN             NaN  1  14.84   60.0  45.16  "
      ]
     },
     "execution_count": 73,
     "metadata": {},
     "output_type": "execute_result"
    }
   ],
   "source": [
    "df.head(4)"
   ]
  },
  {
   "cell_type": "code",
   "execution_count": 74,
   "id": "762fbbe7",
   "metadata": {},
   "outputs": [],
   "source": [
    "# Заполняем nan\n",
    "df[[2, 3, 4, 5]] = df[[2, 3, 4, 5]].fillna(method='ffill')"
   ]
  },
  {
   "cell_type": "code",
   "execution_count": 75,
   "id": "79c056ba",
   "metadata": {},
   "outputs": [],
   "source": [
    "#  удаляем лишние строки Содержащие чек, возврат, отчёт \n",
    "df = df[~df[0].str.contains('Чек|Возврат|Отчет')]\n",
    "df = df[~df[0].str.contains('Возврат')]\n",
    "df = df[~df[0].str.contains('Отчет')]"
   ]
  },
  {
   "cell_type": "code",
   "execution_count": 11,
   "id": "677e2587",
   "metadata": {},
   "outputs": [
    {
     "data": {
      "text/html": [
       "<div>\n",
       "<style scoped>\n",
       "    .dataframe tbody tr th:only-of-type {\n",
       "        vertical-align: middle;\n",
       "    }\n",
       "\n",
       "    .dataframe tbody tr th {\n",
       "        vertical-align: top;\n",
       "    }\n",
       "\n",
       "    .dataframe thead th {\n",
       "        text-align: right;\n",
       "    }\n",
       "</style>\n",
       "<table border=\"1\" class=\"dataframe\">\n",
       "  <thead>\n",
       "    <tr style=\"text-align: right;\">\n",
       "      <th></th>\n",
       "      <th>0</th>\n",
       "      <th>1</th>\n",
       "      <th>2</th>\n",
       "      <th>3</th>\n",
       "      <th>4</th>\n",
       "      <th>5</th>\n",
       "      <th>6</th>\n",
       "      <th>7</th>\n",
       "      <th>8</th>\n",
       "      <th>9</th>\n",
       "    </tr>\n",
       "  </thead>\n",
       "  <tbody>\n",
       "    <tr>\n",
       "      <th>1</th>\n",
       "      <td>Вода мин. Крымская слабогаз. 1,0л ПЭТ</td>\n",
       "      <td>БЕЛАЯ ВОДА</td>\n",
       "      <td>NaN</td>\n",
       "      <td>207546.0</td>\n",
       "      <td>01.01.2021 0:26:25</td>\n",
       "      <td>АЗС №2 г.Керчь</td>\n",
       "      <td>1</td>\n",
       "      <td>26.92</td>\n",
       "      <td>40.0</td>\n",
       "      <td>13.08</td>\n",
       "    </tr>\n",
       "    <tr>\n",
       "      <th>2</th>\n",
       "      <td>Вода мин. Крымская слабогаз. 1,0л ПЭТ</td>\n",
       "      <td>БЕЛАЯ ВОДА</td>\n",
       "      <td>Керчь г</td>\n",
       "      <td>207546.0</td>\n",
       "      <td>01.01.2021 0:26:25</td>\n",
       "      <td>АЗС №2 г.Керчь</td>\n",
       "      <td>1</td>\n",
       "      <td>26.92</td>\n",
       "      <td>40.0</td>\n",
       "      <td>13.08</td>\n",
       "    </tr>\n",
       "    <tr>\n",
       "      <th>3</th>\n",
       "      <td>Кофе АМЕРИКАНО 200 мл АЗС 2 АЗС 4</td>\n",
       "      <td>КОФЕЙНЫЕ НАПИТКИ</td>\n",
       "      <td>Керчь г</td>\n",
       "      <td>207546.0</td>\n",
       "      <td>01.01.2021 0:26:25</td>\n",
       "      <td>АЗС №2 г.Керчь</td>\n",
       "      <td>1</td>\n",
       "      <td>14.84</td>\n",
       "      <td>60.0</td>\n",
       "      <td>45.16</td>\n",
       "    </tr>\n",
       "    <tr>\n",
       "      <th>4</th>\n",
       "      <td>Кофе АМЕРИКАНО 200 мл АЗС 2 АЗС 4</td>\n",
       "      <td>КОФЕЙНЫЕ НАПИТКИ</td>\n",
       "      <td>Керчь г</td>\n",
       "      <td>207546.0</td>\n",
       "      <td>01.01.2021 0:26:25</td>\n",
       "      <td>АЗС №2 г.Керчь</td>\n",
       "      <td>1</td>\n",
       "      <td>14.84</td>\n",
       "      <td>60.0</td>\n",
       "      <td>45.16</td>\n",
       "    </tr>\n",
       "  </tbody>\n",
       "</table>\n",
       "</div>"
      ],
      "text/plain": [
       "                                       0                 1        2         3  \\\n",
       "1  Вода мин. Крымская слабогаз. 1,0л ПЭТ        БЕЛАЯ ВОДА      NaN  207546.0   \n",
       "2  Вода мин. Крымская слабогаз. 1,0л ПЭТ        БЕЛАЯ ВОДА  Керчь г  207546.0   \n",
       "3      Кофе АМЕРИКАНО 200 мл АЗС 2 АЗС 4  КОФЕЙНЫЕ НАПИТКИ  Керчь г  207546.0   \n",
       "4      Кофе АМЕРИКАНО 200 мл АЗС 2 АЗС 4  КОФЕЙНЫЕ НАПИТКИ  Керчь г  207546.0   \n",
       "\n",
       "                    4               5  6      7     8      9  \n",
       "1  01.01.2021 0:26:25  АЗС №2 г.Керчь  1  26.92  40.0  13.08  \n",
       "2  01.01.2021 0:26:25  АЗС №2 г.Керчь  1  26.92  40.0  13.08  \n",
       "3  01.01.2021 0:26:25  АЗС №2 г.Керчь  1  14.84  60.0  45.16  \n",
       "4  01.01.2021 0:26:25  АЗС №2 г.Керчь  1  14.84  60.0  45.16  "
      ]
     },
     "execution_count": 11,
     "metadata": {},
     "output_type": "execute_result"
    }
   ],
   "source": [
    "df.head(4) "
   ]
  },
  {
   "cell_type": "code",
   "execution_count": 76,
   "id": "1ffd48f1",
   "metadata": {},
   "outputs": [],
   "source": [
    "# Именуем столбцы \n",
    "df.columns = ['product', 'group_of_products', 'city', 'receipt', 'date', 'store', 'sold_quantity', \n",
    "              'cost_VAT', 'Розничная сумма', 'Сумма наценки']"
   ]
  },
  {
   "cell_type": "code",
   "execution_count": 77,
   "id": "de9bbddd",
   "metadata": {},
   "outputs": [
    {
     "data": {
      "text/html": [
       "<div>\n",
       "<style scoped>\n",
       "    .dataframe tbody tr th:only-of-type {\n",
       "        vertical-align: middle;\n",
       "    }\n",
       "\n",
       "    .dataframe tbody tr th {\n",
       "        vertical-align: top;\n",
       "    }\n",
       "\n",
       "    .dataframe thead th {\n",
       "        text-align: right;\n",
       "    }\n",
       "</style>\n",
       "<table border=\"1\" class=\"dataframe\">\n",
       "  <thead>\n",
       "    <tr style=\"text-align: right;\">\n",
       "      <th></th>\n",
       "      <th>product</th>\n",
       "      <th>group_of_products</th>\n",
       "      <th>city</th>\n",
       "      <th>receipt</th>\n",
       "      <th>date</th>\n",
       "      <th>store</th>\n",
       "      <th>sold_quantity</th>\n",
       "      <th>cost_VAT</th>\n",
       "      <th>Розничная сумма</th>\n",
       "      <th>Сумма наценки</th>\n",
       "    </tr>\n",
       "  </thead>\n",
       "  <tbody>\n",
       "  </tbody>\n",
       "</table>\n",
       "</div>"
      ],
      "text/plain": [
       "Empty DataFrame\n",
       "Columns: [product, group_of_products, city, receipt, date, store, sold_quantity, cost_VAT, Розничная сумма, Сумма наценки]\n",
       "Index: []"
      ]
     },
     "execution_count": 77,
     "metadata": {},
     "output_type": "execute_result"
    }
   ],
   "source": [
    "\n",
    "df.loc[(df['cost_VAT'] ==0) & (df['Розничная сумма'] ==0)]"
   ]
  },
  {
   "cell_type": "code",
   "execution_count": 78,
   "id": "c6f6d9ac",
   "metadata": {},
   "outputs": [
    {
     "data": {
      "text/html": [
       "<div>\n",
       "<style scoped>\n",
       "    .dataframe tbody tr th:only-of-type {\n",
       "        vertical-align: middle;\n",
       "    }\n",
       "\n",
       "    .dataframe tbody tr th {\n",
       "        vertical-align: top;\n",
       "    }\n",
       "\n",
       "    .dataframe thead th {\n",
       "        text-align: right;\n",
       "    }\n",
       "</style>\n",
       "<table border=\"1\" class=\"dataframe\">\n",
       "  <thead>\n",
       "    <tr style=\"text-align: right;\">\n",
       "      <th></th>\n",
       "      <th>product</th>\n",
       "      <th>group_of_products</th>\n",
       "      <th>city</th>\n",
       "      <th>receipt</th>\n",
       "      <th>date</th>\n",
       "      <th>store</th>\n",
       "      <th>sold_quantity</th>\n",
       "      <th>cost_VAT</th>\n",
       "      <th>Розничная сумма</th>\n",
       "      <th>Сумма наценки</th>\n",
       "    </tr>\n",
       "  </thead>\n",
       "  <tbody>\n",
       "    <tr>\n",
       "      <th>1</th>\n",
       "      <td>Вода мин. Крымская слабогаз. 1,0л ПЭТ</td>\n",
       "      <td>БЕЛАЯ ВОДА</td>\n",
       "      <td>NaN</td>\n",
       "      <td>207546.0</td>\n",
       "      <td>01.01.2021 0:26:25</td>\n",
       "      <td>АЗС №2 г.Керчь</td>\n",
       "      <td>1</td>\n",
       "      <td>26.92</td>\n",
       "      <td>40.0</td>\n",
       "      <td>13.08</td>\n",
       "    </tr>\n",
       "    <tr>\n",
       "      <th>2</th>\n",
       "      <td>Вода мин. Крымская слабогаз. 1,0л ПЭТ</td>\n",
       "      <td>БЕЛАЯ ВОДА</td>\n",
       "      <td>Керчь г</td>\n",
       "      <td>207546.0</td>\n",
       "      <td>01.01.2021 0:26:25</td>\n",
       "      <td>АЗС №2 г.Керчь</td>\n",
       "      <td>1</td>\n",
       "      <td>26.92</td>\n",
       "      <td>40.0</td>\n",
       "      <td>13.08</td>\n",
       "    </tr>\n",
       "    <tr>\n",
       "      <th>3</th>\n",
       "      <td>Кофе АМЕРИКАНО 200 мл АЗС 2 АЗС 4</td>\n",
       "      <td>КОФЕЙНЫЕ НАПИТКИ</td>\n",
       "      <td>Керчь г</td>\n",
       "      <td>207546.0</td>\n",
       "      <td>01.01.2021 0:26:25</td>\n",
       "      <td>АЗС №2 г.Керчь</td>\n",
       "      <td>1</td>\n",
       "      <td>14.84</td>\n",
       "      <td>60.0</td>\n",
       "      <td>45.16</td>\n",
       "    </tr>\n",
       "    <tr>\n",
       "      <th>4</th>\n",
       "      <td>Кофе АМЕРИКАНО 200 мл АЗС 2 АЗС 4</td>\n",
       "      <td>КОФЕЙНЫЕ НАПИТКИ</td>\n",
       "      <td>Керчь г</td>\n",
       "      <td>207546.0</td>\n",
       "      <td>01.01.2021 0:26:25</td>\n",
       "      <td>АЗС №2 г.Керчь</td>\n",
       "      <td>1</td>\n",
       "      <td>14.84</td>\n",
       "      <td>60.0</td>\n",
       "      <td>45.16</td>\n",
       "    </tr>\n",
       "  </tbody>\n",
       "</table>\n",
       "</div>"
      ],
      "text/plain": [
       "                                 product group_of_products     city   receipt  \\\n",
       "1  Вода мин. Крымская слабогаз. 1,0л ПЭТ        БЕЛАЯ ВОДА      NaN  207546.0   \n",
       "2  Вода мин. Крымская слабогаз. 1,0л ПЭТ        БЕЛАЯ ВОДА  Керчь г  207546.0   \n",
       "3      Кофе АМЕРИКАНО 200 мл АЗС 2 АЗС 4  КОФЕЙНЫЕ НАПИТКИ  Керчь г  207546.0   \n",
       "4      Кофе АМЕРИКАНО 200 мл АЗС 2 АЗС 4  КОФЕЙНЫЕ НАПИТКИ  Керчь г  207546.0   \n",
       "\n",
       "                 date           store  sold_quantity  cost_VAT  \\\n",
       "1  01.01.2021 0:26:25  АЗС №2 г.Керчь              1     26.92   \n",
       "2  01.01.2021 0:26:25  АЗС №2 г.Керчь              1     26.92   \n",
       "3  01.01.2021 0:26:25  АЗС №2 г.Керчь              1     14.84   \n",
       "4  01.01.2021 0:26:25  АЗС №2 г.Керчь              1     14.84   \n",
       "\n",
       "   Розничная сумма  Сумма наценки  \n",
       "1             40.0          13.08  \n",
       "2             40.0          13.08  \n",
       "3             60.0          45.16  \n",
       "4             60.0          45.16  "
      ]
     },
     "execution_count": 78,
     "metadata": {},
     "output_type": "execute_result"
    }
   ],
   "source": [
    "df.head(4)"
   ]
  },
  {
   "cell_type": "code",
   "execution_count": 53,
   "id": "209fefc5",
   "metadata": {},
   "outputs": [],
   "source": [
    "# Тип данных чека в число \n",
    "df = df.astype({\"receipt\": \"Int64\"})"
   ]
  },
  {
   "cell_type": "code",
   "execution_count": 34,
   "id": "f09a8316",
   "metadata": {},
   "outputs": [
    {
     "data": {
      "text/html": [
       "<div>\n",
       "<style scoped>\n",
       "    .dataframe tbody tr th:only-of-type {\n",
       "        vertical-align: middle;\n",
       "    }\n",
       "\n",
       "    .dataframe tbody tr th {\n",
       "        vertical-align: top;\n",
       "    }\n",
       "\n",
       "    .dataframe thead th {\n",
       "        text-align: right;\n",
       "    }\n",
       "</style>\n",
       "<table border=\"1\" class=\"dataframe\">\n",
       "  <thead>\n",
       "    <tr style=\"text-align: right;\">\n",
       "      <th></th>\n",
       "      <th>product</th>\n",
       "      <th>group_of_products</th>\n",
       "      <th>city</th>\n",
       "      <th>receipt</th>\n",
       "      <th>date</th>\n",
       "      <th>store</th>\n",
       "      <th>sold_quantity</th>\n",
       "      <th>cost_VAT</th>\n",
       "      <th>Розничная сумма</th>\n",
       "      <th>Сумма наценки</th>\n",
       "    </tr>\n",
       "  </thead>\n",
       "  <tbody>\n",
       "    <tr>\n",
       "      <th>1</th>\n",
       "      <td>Вода мин. Крымская слабогаз. 1,0л ПЭТ</td>\n",
       "      <td>БЕЛАЯ ВОДА</td>\n",
       "      <td>NaN</td>\n",
       "      <td>207546</td>\n",
       "      <td>01.01.2021 0:26:25</td>\n",
       "      <td>АЗС №2 г.Керчь</td>\n",
       "      <td>1</td>\n",
       "      <td>26.92</td>\n",
       "      <td>40.0</td>\n",
       "      <td>13.08</td>\n",
       "    </tr>\n",
       "    <tr>\n",
       "      <th>2</th>\n",
       "      <td>Вода мин. Крымская слабогаз. 1,0л ПЭТ</td>\n",
       "      <td>БЕЛАЯ ВОДА</td>\n",
       "      <td>Керчь г</td>\n",
       "      <td>207546</td>\n",
       "      <td>01.01.2021 0:26:25</td>\n",
       "      <td>АЗС №2 г.Керчь</td>\n",
       "      <td>1</td>\n",
       "      <td>26.92</td>\n",
       "      <td>40.0</td>\n",
       "      <td>13.08</td>\n",
       "    </tr>\n",
       "    <tr>\n",
       "      <th>3</th>\n",
       "      <td>Кофе АМЕРИКАНО 200 мл АЗС 2 АЗС 4</td>\n",
       "      <td>КОФЕЙНЫЕ НАПИТКИ</td>\n",
       "      <td>Керчь г</td>\n",
       "      <td>207546</td>\n",
       "      <td>01.01.2021 0:26:25</td>\n",
       "      <td>АЗС №2 г.Керчь</td>\n",
       "      <td>1</td>\n",
       "      <td>14.84</td>\n",
       "      <td>60.0</td>\n",
       "      <td>45.16</td>\n",
       "    </tr>\n",
       "    <tr>\n",
       "      <th>4</th>\n",
       "      <td>Кофе АМЕРИКАНО 200 мл АЗС 2 АЗС 4</td>\n",
       "      <td>КОФЕЙНЫЕ НАПИТКИ</td>\n",
       "      <td>Керчь г</td>\n",
       "      <td>207546</td>\n",
       "      <td>01.01.2021 0:26:25</td>\n",
       "      <td>АЗС №2 г.Керчь</td>\n",
       "      <td>1</td>\n",
       "      <td>14.84</td>\n",
       "      <td>60.0</td>\n",
       "      <td>45.16</td>\n",
       "    </tr>\n",
       "  </tbody>\n",
       "</table>\n",
       "</div>"
      ],
      "text/plain": [
       "                                 product group_of_products     city  receipt  \\\n",
       "1  Вода мин. Крымская слабогаз. 1,0л ПЭТ        БЕЛАЯ ВОДА      NaN   207546   \n",
       "2  Вода мин. Крымская слабогаз. 1,0л ПЭТ        БЕЛАЯ ВОДА  Керчь г   207546   \n",
       "3      Кофе АМЕРИКАНО 200 мл АЗС 2 АЗС 4  КОФЕЙНЫЕ НАПИТКИ  Керчь г   207546   \n",
       "4      Кофе АМЕРИКАНО 200 мл АЗС 2 АЗС 4  КОФЕЙНЫЕ НАПИТКИ  Керчь г   207546   \n",
       "\n",
       "                 date           store  sold_quantity  cost_VAT  \\\n",
       "1  01.01.2021 0:26:25  АЗС №2 г.Керчь              1     26.92   \n",
       "2  01.01.2021 0:26:25  АЗС №2 г.Керчь              1     26.92   \n",
       "3  01.01.2021 0:26:25  АЗС №2 г.Керчь              1     14.84   \n",
       "4  01.01.2021 0:26:25  АЗС №2 г.Керчь              1     14.84   \n",
       "\n",
       "   Розничная сумма  Сумма наценки  \n",
       "1             40.0          13.08  \n",
       "2             40.0          13.08  \n",
       "3             60.0          45.16  \n",
       "4             60.0          45.16  "
      ]
     },
     "execution_count": 34,
     "metadata": {},
     "output_type": "execute_result"
    }
   ],
   "source": [
    "df.head(4)"
   ]
  },
  {
   "cell_type": "code",
   "execution_count": 54,
   "id": "4eb102f4",
   "metadata": {},
   "outputs": [],
   "source": [
    "# Создаем новые столбцы \n",
    "df['profit'] = df['Сумма наценки'] / df['sold_quantity']\n",
    "df['Стоимость единицы'] = df['cost_VAT'] / df['sold_quantity']"
   ]
  },
  {
   "cell_type": "code",
   "execution_count": 55,
   "id": "bc960092",
   "metadata": {},
   "outputs": [],
   "source": [
    "# Удаляем ненужные столбцы \n",
    "df = df.drop(['product', 'group_of_products', \n",
    "               'Розничная сумма', 'Сумма наценки', 'cost_VAT', 'sold_quantity'], axis=1)   "
   ]
  },
  {
   "cell_type": "code",
   "execution_count": 56,
   "id": "cec8743e",
   "metadata": {},
   "outputs": [],
   "source": [
    "# удаляем дубликаты \n",
    "df = df.drop_duplicates()"
   ]
  },
  {
   "cell_type": "code",
   "execution_count": 38,
   "id": "fb967456",
   "metadata": {
    "scrolled": true
   },
   "outputs": [
    {
     "data": {
      "text/html": [
       "<div>\n",
       "<style scoped>\n",
       "    .dataframe tbody tr th:only-of-type {\n",
       "        vertical-align: middle;\n",
       "    }\n",
       "\n",
       "    .dataframe tbody tr th {\n",
       "        vertical-align: top;\n",
       "    }\n",
       "\n",
       "    .dataframe thead th {\n",
       "        text-align: right;\n",
       "    }\n",
       "</style>\n",
       "<table border=\"1\" class=\"dataframe\">\n",
       "  <thead>\n",
       "    <tr style=\"text-align: right;\">\n",
       "      <th></th>\n",
       "      <th>city</th>\n",
       "      <th>receipt</th>\n",
       "      <th>date</th>\n",
       "      <th>store</th>\n",
       "      <th>profit</th>\n",
       "      <th>Стоимость единицы</th>\n",
       "    </tr>\n",
       "  </thead>\n",
       "  <tbody>\n",
       "    <tr>\n",
       "      <th>1</th>\n",
       "      <td>NaN</td>\n",
       "      <td>207546</td>\n",
       "      <td>01.01.2021 0:26:25</td>\n",
       "      <td>АЗС №2 г.Керчь</td>\n",
       "      <td>13.08</td>\n",
       "      <td>26.92</td>\n",
       "    </tr>\n",
       "    <tr>\n",
       "      <th>2</th>\n",
       "      <td>Керчь г</td>\n",
       "      <td>207546</td>\n",
       "      <td>01.01.2021 0:26:25</td>\n",
       "      <td>АЗС №2 г.Керчь</td>\n",
       "      <td>13.08</td>\n",
       "      <td>26.92</td>\n",
       "    </tr>\n",
       "    <tr>\n",
       "      <th>3</th>\n",
       "      <td>Керчь г</td>\n",
       "      <td>207546</td>\n",
       "      <td>01.01.2021 0:26:25</td>\n",
       "      <td>АЗС №2 г.Керчь</td>\n",
       "      <td>45.16</td>\n",
       "      <td>14.84</td>\n",
       "    </tr>\n",
       "    <tr>\n",
       "      <th>6</th>\n",
       "      <td>Керчь г</td>\n",
       "      <td>207548</td>\n",
       "      <td>01.01.2021 0:28:27</td>\n",
       "      <td>АЗС №2 г.Керчь</td>\n",
       "      <td>6.91</td>\n",
       "      <td>108.09</td>\n",
       "    </tr>\n",
       "  </tbody>\n",
       "</table>\n",
       "</div>"
      ],
      "text/plain": [
       "      city  receipt                date           store  profit  \\\n",
       "1      NaN   207546  01.01.2021 0:26:25  АЗС №2 г.Керчь   13.08   \n",
       "2  Керчь г   207546  01.01.2021 0:26:25  АЗС №2 г.Керчь   13.08   \n",
       "3  Керчь г   207546  01.01.2021 0:26:25  АЗС №2 г.Керчь   45.16   \n",
       "6  Керчь г   207548  01.01.2021 0:28:27  АЗС №2 г.Керчь    6.91   \n",
       "\n",
       "   Стоимость единицы  \n",
       "1              26.92  \n",
       "2              26.92  \n",
       "3              14.84  \n",
       "6             108.09  "
      ]
     },
     "execution_count": 38,
     "metadata": {},
     "output_type": "execute_result"
    }
   ],
   "source": [
    "df.head(4)"
   ]
  },
  {
   "cell_type": "code",
   "execution_count": 57,
   "id": "2a5673e0",
   "metadata": {},
   "outputs": [],
   "source": [
    "city = {'АЗС №2 г.Керчь': \"Керчь\", 'АЗС № 1 Героев Сталинграда 8А': \"Симферополь\", \n",
    "        'АЗС №11 г.Симферополь, ул. Внешняя, д.28, литера Ж': \"Симферополь\", 'АЗС №3 г.Севастополь': \"Севастополь\", \n",
    "        'АЗС №4 г.Симферополь': \"Симферополь\"}\n",
    "store = {'АЗС №2 г.Керчь': \"АЗС №2\", 'АЗС № 1 Героев Сталинграда 8А': \"АЗС №1\", \n",
    "        'АЗС №11 г.Симферополь, ул. Внешняя, д.28, литера Ж': \"АЗС №11\", 'АЗС №3 г.Севастополь': \"АЗС №3\", \n",
    "        'АЗС №4 г.Симферополь': \"АЗС №4\"}"
   ]
  },
  {
   "cell_type": "code",
   "execution_count": 58,
   "id": "6b110340",
   "metadata": {},
   "outputs": [],
   "source": [
    "df['city'] = df['store'].map(city)\n",
    "df['store'] = df['store'].map(store)"
   ]
  },
  {
   "cell_type": "code",
   "execution_count": 41,
   "id": "eea20f59",
   "metadata": {},
   "outputs": [
    {
     "data": {
      "text/html": [
       "<div>\n",
       "<style scoped>\n",
       "    .dataframe tbody tr th:only-of-type {\n",
       "        vertical-align: middle;\n",
       "    }\n",
       "\n",
       "    .dataframe tbody tr th {\n",
       "        vertical-align: top;\n",
       "    }\n",
       "\n",
       "    .dataframe thead th {\n",
       "        text-align: right;\n",
       "    }\n",
       "</style>\n",
       "<table border=\"1\" class=\"dataframe\">\n",
       "  <thead>\n",
       "    <tr style=\"text-align: right;\">\n",
       "      <th></th>\n",
       "      <th>city</th>\n",
       "      <th>receipt</th>\n",
       "      <th>date</th>\n",
       "      <th>store</th>\n",
       "      <th>profit</th>\n",
       "      <th>Стоимость единицы</th>\n",
       "    </tr>\n",
       "  </thead>\n",
       "  <tbody>\n",
       "    <tr>\n",
       "      <th>1</th>\n",
       "      <td>Керчь</td>\n",
       "      <td>207546</td>\n",
       "      <td>01.01.2021 0:26:25</td>\n",
       "      <td>АЗС №2</td>\n",
       "      <td>13.08</td>\n",
       "      <td>26.92</td>\n",
       "    </tr>\n",
       "    <tr>\n",
       "      <th>2</th>\n",
       "      <td>Керчь</td>\n",
       "      <td>207546</td>\n",
       "      <td>01.01.2021 0:26:25</td>\n",
       "      <td>АЗС №2</td>\n",
       "      <td>13.08</td>\n",
       "      <td>26.92</td>\n",
       "    </tr>\n",
       "    <tr>\n",
       "      <th>3</th>\n",
       "      <td>Керчь</td>\n",
       "      <td>207546</td>\n",
       "      <td>01.01.2021 0:26:25</td>\n",
       "      <td>АЗС №2</td>\n",
       "      <td>45.16</td>\n",
       "      <td>14.84</td>\n",
       "    </tr>\n",
       "    <tr>\n",
       "      <th>6</th>\n",
       "      <td>Керчь</td>\n",
       "      <td>207548</td>\n",
       "      <td>01.01.2021 0:28:27</td>\n",
       "      <td>АЗС №2</td>\n",
       "      <td>6.91</td>\n",
       "      <td>108.09</td>\n",
       "    </tr>\n",
       "  </tbody>\n",
       "</table>\n",
       "</div>"
      ],
      "text/plain": [
       "    city  receipt                date   store  profit  Стоимость единицы\n",
       "1  Керчь   207546  01.01.2021 0:26:25  АЗС №2   13.08              26.92\n",
       "2  Керчь   207546  01.01.2021 0:26:25  АЗС №2   13.08              26.92\n",
       "3  Керчь   207546  01.01.2021 0:26:25  АЗС №2   45.16              14.84\n",
       "6  Керчь   207548  01.01.2021 0:28:27  АЗС №2    6.91             108.09"
      ]
     },
     "execution_count": 41,
     "metadata": {},
     "output_type": "execute_result"
    }
   ],
   "source": [
    "df.head(4)"
   ]
  },
  {
   "cell_type": "code",
   "execution_count": 59,
   "id": "a4b6ea5b",
   "metadata": {},
   "outputs": [],
   "source": [
    "# Заменяем nan нулями \n",
    "df = df.fillna(0)"
   ]
  },
  {
   "cell_type": "code",
   "execution_count": 60,
   "id": "1da2a66b",
   "metadata": {},
   "outputs": [
    {
     "data": {
      "text/plain": [
       "city                 0\n",
       "receipt              0\n",
       "date                 0\n",
       "store                0\n",
       "profit               0\n",
       "Стоимость единицы    0\n",
       "dtype: int64"
      ]
     },
     "execution_count": 60,
     "metadata": {},
     "output_type": "execute_result"
    }
   ],
   "source": [
    "# Смотрим nan по всем столбцам \n",
    "df.isnull().sum()"
   ]
  },
  {
   "cell_type": "code",
   "execution_count": 61,
   "id": "00a51f35",
   "metadata": {},
   "outputs": [
    {
     "data": {
      "text/plain": [
       "(815530, 6)"
      ]
     },
     "execution_count": 61,
     "metadata": {},
     "output_type": "execute_result"
    }
   ],
   "source": [
    "df.shape"
   ]
  },
  {
   "cell_type": "code",
   "execution_count": 27,
   "id": "aa0cbbaf",
   "metadata": {},
   "outputs": [],
   "source": [
    "df.to_excel(f'{data_folder}/merged.xlsx') "
   ]
  }
 ],
 "metadata": {
  "kernelspec": {
   "display_name": "Python 3 (ipykernel)",
   "language": "python",
   "name": "python3"
  },
  "language_info": {
   "codemirror_mode": {
    "name": "ipython",
    "version": 3
   },
   "file_extension": ".py",
   "mimetype": "text/x-python",
   "name": "python",
   "nbconvert_exporter": "python",
   "pygments_lexer": "ipython3",
   "version": "3.10.5"
  }
 },
 "nbformat": 4,
 "nbformat_minor": 5
}
